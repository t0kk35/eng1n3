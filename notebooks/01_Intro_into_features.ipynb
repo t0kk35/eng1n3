{
 "cells": [
  {
   "cell_type": "markdown",
   "id": "e386f184",
   "metadata": {},
   "source": [
    "# Intro Into Features\n",
    "-----"
   ]
  },
  {
   "cell_type": "markdown",
   "id": "df5480b3",
   "metadata": {},
   "source": [
    "## What are features?\n",
    "\n",
    "According to Wiki, a feature is an individual measurable property or characteristic of a phenomenon. It is basically the datapoints we use as input to machine learning models.\n",
    "Before we do any sort of modeling, we need to have an understanding of the features we will use as input and construct them in a way a neural net model can use them. Overall the idea of DeepLearning is that the data does not need to be featurized, however, one can not just point a Neural Net at a file and hope magic will happen, some minor transformations are needed.\n",
    "\n",
    "This is what the `f3atur3s` and `eng1n3` packages do. The f3atures package defines the features, the eng1n3 package reads them from files for instance.\n",
    "\n",
    "We will start off with some simple examples of Rank-0 and Rank-1 features, these are to most common in traditional machine learning. Each individual feature will be a scalar or a array where you have the feature as columns and multiple rows of data, you get something that looks like an excel spreadsheet, i.e a Rank-2 data-structure. Where the columns are various features and the lines are individual training/test samples."
   ]
  },
  {
   "cell_type": "markdown",
   "id": "9b42c65c",
   "metadata": {},
   "source": [
    "## Requirements\n",
    "Before running the experiment, make sure to import the `numpy`, `pandas` and `numba` packages in your virtual environment\n",
    "```\n",
    "> pip install numpy\n",
    "> pip install pandas\n",
    "> pip install numba\n",
    "```\n",
    "And that the notebook can find the `f3atur3s` and `eng1n3` packages.\n"
   ]
  },
  {
   "cell_type": "markdown",
   "id": "bb5c785b",
   "metadata": {},
   "source": [
    "## Preparation\n",
    "\n",
    "Before creating features, we will have to import a couple of packages"
   ]
  },
  {
   "cell_type": "code",
   "execution_count": 1,
   "id": "ac026a98",
   "metadata": {},
   "outputs": [],
   "source": [
    "import numpy as np\n",
    "import pandas as pd\n",
    "import math\n",
    "import f3atur3s as ft\n",
    "import eng1n3.pandas as en"
   ]
  },
  {
   "cell_type": "markdown",
   "id": "ba7bc402",
   "metadata": {},
   "source": [
    "And we define the **file** we will read from."
   ]
  },
  {
   "cell_type": "code",
   "execution_count": 2,
   "id": "cf5240f9",
   "metadata": {},
   "outputs": [],
   "source": [
    "file = './data/intro_card.csv'"
   ]
  },
  {
   "cell_type": "markdown",
   "id": "9da9d535",
   "metadata": {},
   "source": [
    "Let's have a look at the raw content of the file. It's just a very simple comma delimited file with a header column for the name."
   ]
  },
  {
   "cell_type": "code",
   "execution_count": 3,
   "id": "0f77e579",
   "metadata": {},
   "outputs": [
    {
     "name": "stdout",
     "output_type": "stream",
     "text": [
      "Date,Amount,Card,Merchant,MCC,Country,Fraud\n",
      "20200101,1.0,CARD-1,MRC-1,0001,DE,0\n",
      "20200102,2.0,CARD-2,MRC-2,0002,GB,0\n",
      "20200103,3.0,CARD-1,MRC-3,0003,DE,1\n",
      "20200104,4.0,CARD-1,MRC-3,0003,FR,0\n",
      "20200104,5.0,CARD-2,MRC-2,0002,GB,0\n",
      "20200106,6.0,CARD-2,MRC-4,,DE,0\n"
     ]
    }
   ],
   "source": [
    "raw_file = open(file)\n",
    "raw_content = raw_file.read()\n",
    "print(raw_content)\n",
    "raw_file.close()"
   ]
  },
  {
   "cell_type": "markdown",
   "id": "bec5fd72",
   "metadata": {},
   "source": [
    "## Rank-0 and Rank-1\n",
    "In the following set of examples we will build a set of features of Rank-0 and Rank-1 into a Pandas DataFrame. This means the features will be plain scalars or arrays. When we pack multiple of these into one structure we get a Rank-2 data structure, a sort of excel spreadsheet where the features are columns and the row are samples. \n",
    "\n",
    "DataFrames can not directly be interpreted by a Neural NetModel, but it will be a small step to convert them into numpy arrays which Neural Net model can almost readily use. Moreover Pandas are a nice tool to do some analytics and get a good understanding of the data."
   ]
  },
  {
   "cell_type": "markdown",
   "id": "cb79e36b",
   "metadata": {},
   "source": [
    "### FeatureSource\n",
    "First let's build a couple of simple string features"
   ]
  },
  {
   "cell_type": "code",
   "execution_count": 4,
   "id": "ae456fc8",
   "metadata": {},
   "outputs": [
    {
     "name": "stderr",
     "output_type": "stream",
     "text": [
      "2023-03-12 15:38:24.658 eng1n3.common.engine           INFO     Start Engine...\n",
      "2023-03-12 15:38:24.658 eng1n3.pandas.pandasengine     INFO     Pandas Version : 1.5.3\n",
      "2023-03-12 15:38:24.659 eng1n3.pandas.pandasengine     INFO     Numpy Version : 1.23.5\n",
      "2023-03-12 15:38:24.659 eng1n3.pandas.pandasengine     INFO     Building Panda for : Features from file ./data/intro_card.csv\n",
      "2023-03-12 15:38:24.669 eng1n3.pandas.pandasengine     INFO     Reshaping DataFrame to: Features\n"
     ]
    },
    {
     "data": {
      "text/html": [
       "<div>\n",
       "<style scoped>\n",
       "    .dataframe tbody tr th:only-of-type {\n",
       "        vertical-align: middle;\n",
       "    }\n",
       "\n",
       "    .dataframe tbody tr th {\n",
       "        vertical-align: top;\n",
       "    }\n",
       "\n",
       "    .dataframe thead th {\n",
       "        text-align: right;\n",
       "    }\n",
       "</style>\n",
       "<table border=\"1\" class=\"dataframe\">\n",
       "  <thead>\n",
       "    <tr style=\"text-align: right;\">\n",
       "      <th></th>\n",
       "      <th>Card</th>\n",
       "      <th>Merchant</th>\n",
       "    </tr>\n",
       "  </thead>\n",
       "  <tbody>\n",
       "    <tr>\n",
       "      <th>0</th>\n",
       "      <td>CARD-1</td>\n",
       "      <td>MRC-1</td>\n",
       "    </tr>\n",
       "    <tr>\n",
       "      <th>1</th>\n",
       "      <td>CARD-2</td>\n",
       "      <td>MRC-2</td>\n",
       "    </tr>\n",
       "    <tr>\n",
       "      <th>2</th>\n",
       "      <td>CARD-1</td>\n",
       "      <td>MRC-3</td>\n",
       "    </tr>\n",
       "    <tr>\n",
       "      <th>3</th>\n",
       "      <td>CARD-1</td>\n",
       "      <td>MRC-3</td>\n",
       "    </tr>\n",
       "    <tr>\n",
       "      <th>4</th>\n",
       "      <td>CARD-2</td>\n",
       "      <td>MRC-2</td>\n",
       "    </tr>\n",
       "    <tr>\n",
       "      <th>5</th>\n",
       "      <td>CARD-2</td>\n",
       "      <td>MRC-4</td>\n",
       "    </tr>\n",
       "  </tbody>\n",
       "</table>\n",
       "</div>"
      ],
      "text/plain": [
       "     Card Merchant\n",
       "0  CARD-1    MRC-1\n",
       "1  CARD-2    MRC-2\n",
       "2  CARD-1    MRC-3\n",
       "3  CARD-1    MRC-3\n",
       "4  CARD-2    MRC-2\n",
       "5  CARD-2    MRC-4"
      ]
     },
     "execution_count": 4,
     "metadata": {},
     "output_type": "execute_result"
    }
   ],
   "source": [
    "card = ft.FeatureSource(\n",
    "    'Card',                 # The name of the source feature, for source features this must match with the header \n",
    "    ft.FEATURE_TYPE_STRING  # The data type of the feature, in this case we intepret as a string\n",
    ")\n",
    "\n",
    "merchant = ft.FeatureSource('Merchant', ft.FEATURE_TYPE_STRING)\n",
    "\n",
    "td = ft.TensorDefinition(\n",
    "    'Features',       # Name for the TensorDefinition\n",
    "    [card, merchant]        # A list of features to build\n",
    ")\n",
    "\n",
    "# Now ask the EnginePandas to make a Pandas DataFrame from the TensorDefinition\n",
    "with en.EnginePandas(num_threads=1) as e:\n",
    "    df = e.df_from_csv(\n",
    "        td,                 # Our TensorDefinition with the 2 features in it.\n",
    "        file,               # The file we want to read\n",
    "        inference=False     # Inference is False, we assume we are building a training dataset.\n",
    "    )\n",
    "\n",
    "# Display the Pandas DataFrame\n",
    "df"
   ]
  },
  {
   "cell_type": "markdown",
   "id": "c12f70ee",
   "metadata": {},
   "source": [
    "We can also read numerical features into floats"
   ]
  },
  {
   "cell_type": "code",
   "execution_count": 5,
   "id": "3b39f1aa",
   "metadata": {},
   "outputs": [
    {
     "name": "stderr",
     "output_type": "stream",
     "text": [
      "2023-03-12 15:38:26.303 eng1n3.common.engine           INFO     Start Engine...\n",
      "2023-03-12 15:38:26.304 eng1n3.pandas.pandasengine     INFO     Pandas Version : 1.5.3\n",
      "2023-03-12 15:38:26.304 eng1n3.pandas.pandasengine     INFO     Numpy Version : 1.23.5\n",
      "2023-03-12 15:38:26.305 eng1n3.pandas.pandasengine     INFO     Building Panda for : Features from file ./data/intro_card.csv\n",
      "2023-03-12 15:38:26.307 eng1n3.pandas.pandasengine     INFO     Reshaping DataFrame to: Features\n"
     ]
    },
    {
     "data": {
      "text/html": [
       "<div>\n",
       "<style scoped>\n",
       "    .dataframe tbody tr th:only-of-type {\n",
       "        vertical-align: middle;\n",
       "    }\n",
       "\n",
       "    .dataframe tbody tr th {\n",
       "        vertical-align: top;\n",
       "    }\n",
       "\n",
       "    .dataframe thead th {\n",
       "        text-align: right;\n",
       "    }\n",
       "</style>\n",
       "<table border=\"1\" class=\"dataframe\">\n",
       "  <thead>\n",
       "    <tr style=\"text-align: right;\">\n",
       "      <th></th>\n",
       "      <th>Card</th>\n",
       "      <th>Merchant</th>\n",
       "      <th>Amount</th>\n",
       "    </tr>\n",
       "  </thead>\n",
       "  <tbody>\n",
       "    <tr>\n",
       "      <th>0</th>\n",
       "      <td>CARD-1</td>\n",
       "      <td>MRC-1</td>\n",
       "      <td>1.0</td>\n",
       "    </tr>\n",
       "    <tr>\n",
       "      <th>1</th>\n",
       "      <td>CARD-2</td>\n",
       "      <td>MRC-2</td>\n",
       "      <td>2.0</td>\n",
       "    </tr>\n",
       "    <tr>\n",
       "      <th>2</th>\n",
       "      <td>CARD-1</td>\n",
       "      <td>MRC-3</td>\n",
       "      <td>3.0</td>\n",
       "    </tr>\n",
       "    <tr>\n",
       "      <th>3</th>\n",
       "      <td>CARD-1</td>\n",
       "      <td>MRC-3</td>\n",
       "      <td>4.0</td>\n",
       "    </tr>\n",
       "    <tr>\n",
       "      <th>4</th>\n",
       "      <td>CARD-2</td>\n",
       "      <td>MRC-2</td>\n",
       "      <td>5.0</td>\n",
       "    </tr>\n",
       "    <tr>\n",
       "      <th>5</th>\n",
       "      <td>CARD-2</td>\n",
       "      <td>MRC-4</td>\n",
       "      <td>6.0</td>\n",
       "    </tr>\n",
       "  </tbody>\n",
       "</table>\n",
       "</div>"
      ],
      "text/plain": [
       "     Card Merchant  Amount\n",
       "0  CARD-1    MRC-1     1.0\n",
       "1  CARD-2    MRC-2     2.0\n",
       "2  CARD-1    MRC-3     3.0\n",
       "3  CARD-1    MRC-3     4.0\n",
       "4  CARD-2    MRC-2     5.0\n",
       "5  CARD-2    MRC-4     6.0"
      ]
     },
     "execution_count": 5,
     "metadata": {},
     "output_type": "execute_result"
    }
   ],
   "source": [
    "amount = ft.FeatureSource('Amount', ft.FEATURE_TYPE_FLOAT)\n",
    "\n",
    "td = ft.TensorDefinition('Features', [card, merchant, amount])\n",
    "\n",
    "with en.EnginePandas(num_threads=1) as e:\n",
    "    df = e.df_from_csv(td, file, inference=False)\n",
    "    \n",
    "df"
   ]
  },
  {
   "cell_type": "markdown",
   "id": "1cb2d743",
   "metadata": {},
   "source": [
    "And validate that the type is indeed different"
   ]
  },
  {
   "cell_type": "code",
   "execution_count": 6,
   "id": "10ded0fb",
   "metadata": {},
   "outputs": [
    {
     "data": {
      "text/plain": [
       "Card         object\n",
       "Merchant     object\n",
       "Amount      float64\n",
       "dtype: object"
      ]
     },
     "execution_count": 6,
     "metadata": {},
     "output_type": "execute_result"
    }
   ],
   "source": [
    "df.dtypes"
   ]
  },
  {
   "cell_type": "markdown",
   "id": "d44da888",
   "metadata": {},
   "source": [
    "In order to read the dates, we need to provide a format_code that explains how to interpret the raw string and form a date from it.\n",
    "\n",
    "These are the standard Python format codes, more info in the standard documentation. https://docs.python.org/3/library/datetime.html#strftime-strptime-behavior"
   ]
  },
  {
   "cell_type": "code",
   "execution_count": 7,
   "id": "9e0682db",
   "metadata": {},
   "outputs": [
    {
     "name": "stderr",
     "output_type": "stream",
     "text": [
      "2023-03-12 15:38:29.607 eng1n3.common.engine           INFO     Start Engine...\n",
      "2023-03-12 15:38:29.607 eng1n3.pandas.pandasengine     INFO     Pandas Version : 1.5.3\n",
      "2023-03-12 15:38:29.608 eng1n3.pandas.pandasengine     INFO     Numpy Version : 1.23.5\n",
      "2023-03-12 15:38:29.608 eng1n3.pandas.pandasengine     INFO     Building Panda for : Features from file ./data/intro_card.csv\n",
      "2023-03-12 15:38:29.615 eng1n3.pandas.pandasengine     INFO     Reshaping DataFrame to: Features\n"
     ]
    },
    {
     "data": {
      "text/html": [
       "<div>\n",
       "<style scoped>\n",
       "    .dataframe tbody tr th:only-of-type {\n",
       "        vertical-align: middle;\n",
       "    }\n",
       "\n",
       "    .dataframe tbody tr th {\n",
       "        vertical-align: top;\n",
       "    }\n",
       "\n",
       "    .dataframe thead th {\n",
       "        text-align: right;\n",
       "    }\n",
       "</style>\n",
       "<table border=\"1\" class=\"dataframe\">\n",
       "  <thead>\n",
       "    <tr style=\"text-align: right;\">\n",
       "      <th></th>\n",
       "      <th>Date</th>\n",
       "      <th>Card</th>\n",
       "      <th>Merchant</th>\n",
       "      <th>Amount</th>\n",
       "    </tr>\n",
       "  </thead>\n",
       "  <tbody>\n",
       "    <tr>\n",
       "      <th>0</th>\n",
       "      <td>2020-01-01</td>\n",
       "      <td>CARD-1</td>\n",
       "      <td>MRC-1</td>\n",
       "      <td>1.0</td>\n",
       "    </tr>\n",
       "    <tr>\n",
       "      <th>1</th>\n",
       "      <td>2020-01-02</td>\n",
       "      <td>CARD-2</td>\n",
       "      <td>MRC-2</td>\n",
       "      <td>2.0</td>\n",
       "    </tr>\n",
       "    <tr>\n",
       "      <th>2</th>\n",
       "      <td>2020-01-03</td>\n",
       "      <td>CARD-1</td>\n",
       "      <td>MRC-3</td>\n",
       "      <td>3.0</td>\n",
       "    </tr>\n",
       "    <tr>\n",
       "      <th>3</th>\n",
       "      <td>2020-01-04</td>\n",
       "      <td>CARD-1</td>\n",
       "      <td>MRC-3</td>\n",
       "      <td>4.0</td>\n",
       "    </tr>\n",
       "    <tr>\n",
       "      <th>4</th>\n",
       "      <td>2020-01-04</td>\n",
       "      <td>CARD-2</td>\n",
       "      <td>MRC-2</td>\n",
       "      <td>5.0</td>\n",
       "    </tr>\n",
       "    <tr>\n",
       "      <th>5</th>\n",
       "      <td>2020-01-06</td>\n",
       "      <td>CARD-2</td>\n",
       "      <td>MRC-4</td>\n",
       "      <td>6.0</td>\n",
       "    </tr>\n",
       "  </tbody>\n",
       "</table>\n",
       "</div>"
      ],
      "text/plain": [
       "        Date    Card Merchant  Amount\n",
       "0 2020-01-01  CARD-1    MRC-1     1.0\n",
       "1 2020-01-02  CARD-2    MRC-2     2.0\n",
       "2 2020-01-03  CARD-1    MRC-3     3.0\n",
       "3 2020-01-04  CARD-1    MRC-3     4.0\n",
       "4 2020-01-04  CARD-2    MRC-2     5.0\n",
       "5 2020-01-06  CARD-2    MRC-4     6.0"
      ]
     },
     "execution_count": 7,
     "metadata": {},
     "output_type": "execute_result"
    }
   ],
   "source": [
    "date = ft.FeatureSource('Date', ft.FEATURE_TYPE_DATE, format_code='%Y%m%d')\n",
    "\n",
    "td = ft.TensorDefinition('Features', [date, card, merchant, amount])\n",
    "\n",
    "with en.EnginePandas(num_threads=1) as e:\n",
    "    df = e.df_from_csv(td, file, inference=False)\n",
    "    \n",
    "df"
   ]
  },
  {
   "cell_type": "markdown",
   "id": "e49943fc",
   "metadata": {},
   "source": [
    "And validate we did indeed get a datetime field"
   ]
  },
  {
   "cell_type": "code",
   "execution_count": 8,
   "id": "1940f4fc",
   "metadata": {},
   "outputs": [
    {
     "data": {
      "text/plain": [
       "Date        datetime64[ns]\n",
       "Card                object\n",
       "Merchant            object\n",
       "Amount             float64\n",
       "dtype: object"
      ]
     },
     "execution_count": 8,
     "metadata": {},
     "output_type": "execute_result"
    }
   ],
   "source": [
    "df.dtypes"
   ]
  },
  {
   "cell_type": "markdown",
   "id": "fcc4142f",
   "metadata": {},
   "source": [
    "And finally let's interpret the merchant code and country as categorical features. Pandas has an efficient way of storing them. If you have a string feature with relatively low cardinality, it's best to read it as categorical"
   ]
  },
  {
   "cell_type": "code",
   "execution_count": 9,
   "id": "86f8a204",
   "metadata": {},
   "outputs": [
    {
     "name": "stderr",
     "output_type": "stream",
     "text": [
      "2023-03-12 15:38:32.756 eng1n3.common.engine           INFO     Start Engine...\n",
      "2023-03-12 15:38:32.757 eng1n3.pandas.pandasengine     INFO     Pandas Version : 1.5.3\n",
      "2023-03-12 15:38:32.757 eng1n3.pandas.pandasengine     INFO     Numpy Version : 1.23.5\n",
      "2023-03-12 15:38:32.758 eng1n3.pandas.pandasengine     INFO     Building Panda for : Features from file ./data/intro_card.csv\n",
      "2023-03-12 15:38:32.795 eng1n3.pandas.pandasengine     INFO     Reshaping DataFrame to: Features\n"
     ]
    },
    {
     "data": {
      "text/html": [
       "<div>\n",
       "<style scoped>\n",
       "    .dataframe tbody tr th:only-of-type {\n",
       "        vertical-align: middle;\n",
       "    }\n",
       "\n",
       "    .dataframe tbody tr th {\n",
       "        vertical-align: top;\n",
       "    }\n",
       "\n",
       "    .dataframe thead th {\n",
       "        text-align: right;\n",
       "    }\n",
       "</style>\n",
       "<table border=\"1\" class=\"dataframe\">\n",
       "  <thead>\n",
       "    <tr style=\"text-align: right;\">\n",
       "      <th></th>\n",
       "      <th>Date</th>\n",
       "      <th>Card</th>\n",
       "      <th>Merchant</th>\n",
       "      <th>Amount</th>\n",
       "      <th>MCC</th>\n",
       "      <th>Country</th>\n",
       "    </tr>\n",
       "  </thead>\n",
       "  <tbody>\n",
       "    <tr>\n",
       "      <th>0</th>\n",
       "      <td>2020-01-01</td>\n",
       "      <td>CARD-1</td>\n",
       "      <td>MRC-1</td>\n",
       "      <td>1.0</td>\n",
       "      <td>0001</td>\n",
       "      <td>DE</td>\n",
       "    </tr>\n",
       "    <tr>\n",
       "      <th>1</th>\n",
       "      <td>2020-01-02</td>\n",
       "      <td>CARD-2</td>\n",
       "      <td>MRC-2</td>\n",
       "      <td>2.0</td>\n",
       "      <td>0002</td>\n",
       "      <td>GB</td>\n",
       "    </tr>\n",
       "    <tr>\n",
       "      <th>2</th>\n",
       "      <td>2020-01-03</td>\n",
       "      <td>CARD-1</td>\n",
       "      <td>MRC-3</td>\n",
       "      <td>3.0</td>\n",
       "      <td>0003</td>\n",
       "      <td>DE</td>\n",
       "    </tr>\n",
       "    <tr>\n",
       "      <th>3</th>\n",
       "      <td>2020-01-04</td>\n",
       "      <td>CARD-1</td>\n",
       "      <td>MRC-3</td>\n",
       "      <td>4.0</td>\n",
       "      <td>0003</td>\n",
       "      <td>FR</td>\n",
       "    </tr>\n",
       "    <tr>\n",
       "      <th>4</th>\n",
       "      <td>2020-01-04</td>\n",
       "      <td>CARD-2</td>\n",
       "      <td>MRC-2</td>\n",
       "      <td>5.0</td>\n",
       "      <td>0002</td>\n",
       "      <td>GB</td>\n",
       "    </tr>\n",
       "    <tr>\n",
       "      <th>5</th>\n",
       "      <td>2020-01-06</td>\n",
       "      <td>CARD-2</td>\n",
       "      <td>MRC-4</td>\n",
       "      <td>6.0</td>\n",
       "      <td>0000</td>\n",
       "      <td>DE</td>\n",
       "    </tr>\n",
       "  </tbody>\n",
       "</table>\n",
       "</div>"
      ],
      "text/plain": [
       "        Date    Card Merchant  Amount   MCC Country\n",
       "0 2020-01-01  CARD-1    MRC-1     1.0  0001      DE\n",
       "1 2020-01-02  CARD-2    MRC-2     2.0  0002      GB\n",
       "2 2020-01-03  CARD-1    MRC-3     3.0  0003      DE\n",
       "3 2020-01-04  CARD-1    MRC-3     4.0  0003      FR\n",
       "4 2020-01-04  CARD-2    MRC-2     5.0  0002      GB\n",
       "5 2020-01-06  CARD-2    MRC-4     6.0  0000      DE"
      ]
     },
     "execution_count": 9,
     "metadata": {},
     "output_type": "execute_result"
    }
   ],
   "source": [
    "# Note this feature has a default, the mcc value for the 5th row is empty. We don't want empty values.\n",
    "mcc = ft.FeatureSource('MCC', ft.FEATURE_TYPE_CATEGORICAL, default='0000')\n",
    "country = ft.FeatureSource('Country', ft.FEATURE_TYPE_CATEGORICAL)\n",
    "\n",
    "td = ft.TensorDefinition('Features', [date, card, merchant, amount, mcc, country])\n",
    "\n",
    "with en.EnginePandas(num_threads=1) as e:\n",
    "    df = e.df_from_csv(td, file, inference=False)\n",
    "    \n",
    "df"
   ]
  },
  {
   "cell_type": "code",
   "execution_count": 10,
   "id": "17b1fa21",
   "metadata": {},
   "outputs": [
    {
     "data": {
      "text/plain": [
       "Date        datetime64[ns]\n",
       "Card                object\n",
       "Merchant            object\n",
       "Amount             float64\n",
       "MCC               category\n",
       "Country           category\n",
       "dtype: object"
      ]
     },
     "execution_count": 10,
     "metadata": {},
     "output_type": "execute_result"
    }
   ],
   "source": [
    "df.dtypes"
   ]
  },
  {
   "cell_type": "markdown",
   "id": "8ee59108",
   "metadata": {},
   "source": [
    "### FeatureOneHot\n",
    "Neural Nets want numerical input, they can not directly use string or categorical values. So we'll need to transform features such as the country and MCC into a number before we can use them. One way of doing this is through one-hot encoding.\n",
    "\n",
    "A One Hot transformation will create a new column for each unique value of the original *base* feature. Those columns only contain 0 or 1. The value is 1 if the row of the base feature contained the respective value.\n",
    "\n",
    "For instance country has 3 unique values. 'DE', 'FR' and 'GB'. A One Hot encoding will create 3 columns, `Country__DE`, `Country__FR` and `Country_GB`. For row one the original value was 'DE', so the column `Country__DE` will be 1, the other columns 0."
   ]
  },
  {
   "cell_type": "code",
   "execution_count": 11,
   "id": "0aa8231f",
   "metadata": {},
   "outputs": [
    {
     "name": "stderr",
     "output_type": "stream",
     "text": [
      "2023-03-12 15:38:36.612 eng1n3.common.engine           INFO     Start Engine...\n",
      "2023-03-12 15:38:36.613 eng1n3.pandas.pandasengine     INFO     Pandas Version : 1.5.3\n",
      "2023-03-12 15:38:36.614 eng1n3.pandas.pandasengine     INFO     Numpy Version : 1.23.5\n",
      "2023-03-12 15:38:36.614 eng1n3.pandas.pandasengine     INFO     Building Panda for : Features from file ./data/intro_card.csv\n",
      "2023-03-12 15:38:36.623 eng1n3.pandas.pandasengine     INFO     Reshaping DataFrame to: Features\n"
     ]
    },
    {
     "data": {
      "text/html": [
       "<div>\n",
       "<style scoped>\n",
       "    .dataframe tbody tr th:only-of-type {\n",
       "        vertical-align: middle;\n",
       "    }\n",
       "\n",
       "    .dataframe tbody tr th {\n",
       "        vertical-align: top;\n",
       "    }\n",
       "\n",
       "    .dataframe thead th {\n",
       "        text-align: right;\n",
       "    }\n",
       "</style>\n",
       "<table border=\"1\" class=\"dataframe\">\n",
       "  <thead>\n",
       "    <tr style=\"text-align: right;\">\n",
       "      <th></th>\n",
       "      <th>Date</th>\n",
       "      <th>Card</th>\n",
       "      <th>Merchant</th>\n",
       "      <th>Amount</th>\n",
       "      <th>MCC__0001</th>\n",
       "      <th>MCC__0002</th>\n",
       "      <th>MCC__0003</th>\n",
       "      <th>MCC__0000</th>\n",
       "      <th>Country__DE</th>\n",
       "      <th>Country__FR</th>\n",
       "      <th>Country__GB</th>\n",
       "    </tr>\n",
       "  </thead>\n",
       "  <tbody>\n",
       "    <tr>\n",
       "      <th>0</th>\n",
       "      <td>2020-01-01</td>\n",
       "      <td>CARD-1</td>\n",
       "      <td>MRC-1</td>\n",
       "      <td>1.0</td>\n",
       "      <td>1</td>\n",
       "      <td>0</td>\n",
       "      <td>0</td>\n",
       "      <td>0</td>\n",
       "      <td>1</td>\n",
       "      <td>0</td>\n",
       "      <td>0</td>\n",
       "    </tr>\n",
       "    <tr>\n",
       "      <th>1</th>\n",
       "      <td>2020-01-02</td>\n",
       "      <td>CARD-2</td>\n",
       "      <td>MRC-2</td>\n",
       "      <td>2.0</td>\n",
       "      <td>0</td>\n",
       "      <td>1</td>\n",
       "      <td>0</td>\n",
       "      <td>0</td>\n",
       "      <td>0</td>\n",
       "      <td>0</td>\n",
       "      <td>1</td>\n",
       "    </tr>\n",
       "    <tr>\n",
       "      <th>2</th>\n",
       "      <td>2020-01-03</td>\n",
       "      <td>CARD-1</td>\n",
       "      <td>MRC-3</td>\n",
       "      <td>3.0</td>\n",
       "      <td>0</td>\n",
       "      <td>0</td>\n",
       "      <td>1</td>\n",
       "      <td>0</td>\n",
       "      <td>1</td>\n",
       "      <td>0</td>\n",
       "      <td>0</td>\n",
       "    </tr>\n",
       "    <tr>\n",
       "      <th>3</th>\n",
       "      <td>2020-01-04</td>\n",
       "      <td>CARD-1</td>\n",
       "      <td>MRC-3</td>\n",
       "      <td>4.0</td>\n",
       "      <td>0</td>\n",
       "      <td>0</td>\n",
       "      <td>1</td>\n",
       "      <td>0</td>\n",
       "      <td>0</td>\n",
       "      <td>1</td>\n",
       "      <td>0</td>\n",
       "    </tr>\n",
       "    <tr>\n",
       "      <th>4</th>\n",
       "      <td>2020-01-04</td>\n",
       "      <td>CARD-2</td>\n",
       "      <td>MRC-2</td>\n",
       "      <td>5.0</td>\n",
       "      <td>0</td>\n",
       "      <td>1</td>\n",
       "      <td>0</td>\n",
       "      <td>0</td>\n",
       "      <td>0</td>\n",
       "      <td>0</td>\n",
       "      <td>1</td>\n",
       "    </tr>\n",
       "    <tr>\n",
       "      <th>5</th>\n",
       "      <td>2020-01-06</td>\n",
       "      <td>CARD-2</td>\n",
       "      <td>MRC-4</td>\n",
       "      <td>6.0</td>\n",
       "      <td>0</td>\n",
       "      <td>0</td>\n",
       "      <td>0</td>\n",
       "      <td>1</td>\n",
       "      <td>1</td>\n",
       "      <td>0</td>\n",
       "      <td>0</td>\n",
       "    </tr>\n",
       "  </tbody>\n",
       "</table>\n",
       "</div>"
      ],
      "text/plain": [
       "        Date    Card Merchant  Amount  MCC__0001  MCC__0002  MCC__0003  \\\n",
       "0 2020-01-01  CARD-1    MRC-1     1.0          1          0          0   \n",
       "1 2020-01-02  CARD-2    MRC-2     2.0          0          1          0   \n",
       "2 2020-01-03  CARD-1    MRC-3     3.0          0          0          1   \n",
       "3 2020-01-04  CARD-1    MRC-3     4.0          0          0          1   \n",
       "4 2020-01-04  CARD-2    MRC-2     5.0          0          1          0   \n",
       "5 2020-01-06  CARD-2    MRC-4     6.0          0          0          0   \n",
       "\n",
       "   MCC__0000  Country__DE  Country__FR  Country__GB  \n",
       "0          0            1            0            0  \n",
       "1          0            0            0            1  \n",
       "2          0            1            0            0  \n",
       "3          0            0            1            0  \n",
       "4          0            0            0            1  \n",
       "5          1            1            0            0  "
      ]
     },
     "execution_count": 11,
     "metadata": {},
     "output_type": "execute_result"
    }
   ],
   "source": [
    "card = ft.FeatureSource('Card', ft.FEATURE_TYPE_STRING)\n",
    "merchant = ft.FeatureSource('Merchant', ft.FEATURE_TYPE_STRING)\n",
    "amount = ft.FeatureSource('Amount', ft.FEATURE_TYPE_FLOAT)\n",
    "date = ft.FeatureSource('Date', ft.FEATURE_TYPE_DATE, format_code='%Y%m%d')\n",
    "mcc = ft.FeatureSource('MCC', ft.FEATURE_TYPE_CATEGORICAL, default='0000')\n",
    "country = ft.FeatureSource('Country', ft.FEATURE_TYPE_CATEGORICAL)\n",
    "\n",
    "# Define 2 OneHot Features\n",
    "mcc_oh = ft.FeatureOneHot(\n",
    "    'MCC_OH',               # Name of the feature\n",
    "    ft.FEATURE_TYPE_INT_8,  # Data type of the feature, in this case a small Int. Must be INT for OneHot Features\n",
    "    mcc                     # The base feature, i.e. the feature to be converted into a one-hot encoding.\n",
    ")\n",
    "country_oh = ft.FeatureOneHot('Country_OH', ft.FEATURE_TYPE_INT_8, country)\n",
    "\n",
    "td = ft.TensorDefinition('Features', [date, card, merchant, amount, mcc_oh, country_oh])\n",
    "\n",
    "with en.EnginePandas(num_threads=1) as e:\n",
    "    df = e.df_from_csv(td, file, inference=False)\n",
    "\n",
    "df"
   ]
  },
  {
   "cell_type": "markdown",
   "id": "d9145f51",
   "metadata": {},
   "source": [
    "We now have more numbers for a model to work with"
   ]
  },
  {
   "cell_type": "code",
   "execution_count": 12,
   "id": "f2463517",
   "metadata": {},
   "outputs": [
    {
     "data": {
      "text/plain": [
       "Date           datetime64[ns]\n",
       "Card                   object\n",
       "Merchant               object\n",
       "Amount                float64\n",
       "MCC__0001               uint8\n",
       "MCC__0002               uint8\n",
       "MCC__0003               uint8\n",
       "MCC__0000               uint8\n",
       "Country__DE             uint8\n",
       "Country__FR             uint8\n",
       "Country__GB             uint8\n",
       "dtype: object"
      ]
     },
     "execution_count": 12,
     "metadata": {},
     "output_type": "execute_result"
    }
   ],
   "source": [
    "df.dtypes"
   ]
  },
  {
   "cell_type": "markdown",
   "id": "f6ef1a4a",
   "metadata": {},
   "source": [
    "### FeatureIndex\n",
    "Another way to convert a string or categorical feature into a number is applying an indexing transformation. Indexing convert the value of the original *base* feature. \n",
    "\n",
    "A FeatureIndex will keep a dictionary of unique values. For instance for Country we have 3 unique values  'DE', 'FR' and 'GB'. The dictionary will map 'DE'->1, 'FR'->2 and 'GB'->3."
   ]
  },
  {
   "cell_type": "code",
   "execution_count": 13,
   "id": "53106b22",
   "metadata": {},
   "outputs": [
    {
     "name": "stderr",
     "output_type": "stream",
     "text": [
      "2023-03-12 15:38:41.221 eng1n3.common.engine           INFO     Start Engine...\n",
      "2023-03-12 15:38:41.222 eng1n3.pandas.pandasengine     INFO     Pandas Version : 1.5.3\n",
      "2023-03-12 15:38:41.223 eng1n3.pandas.pandasengine     INFO     Numpy Version : 1.23.5\n",
      "2023-03-12 15:38:41.224 eng1n3.pandas.pandasengine     INFO     Building Panda for : Features from file ./data/intro_card.csv\n",
      "2023-03-12 15:38:41.233 eng1n3.pandas.pandasengine     INFO     Reshaping DataFrame to: Features\n"
     ]
    },
    {
     "data": {
      "text/html": [
       "<div>\n",
       "<style scoped>\n",
       "    .dataframe tbody tr th:only-of-type {\n",
       "        vertical-align: middle;\n",
       "    }\n",
       "\n",
       "    .dataframe tbody tr th {\n",
       "        vertical-align: top;\n",
       "    }\n",
       "\n",
       "    .dataframe thead th {\n",
       "        text-align: right;\n",
       "    }\n",
       "</style>\n",
       "<table border=\"1\" class=\"dataframe\">\n",
       "  <thead>\n",
       "    <tr style=\"text-align: right;\">\n",
       "      <th></th>\n",
       "      <th>Date</th>\n",
       "      <th>Card</th>\n",
       "      <th>Merchant</th>\n",
       "      <th>Amount</th>\n",
       "      <th>MCC_Index</th>\n",
       "      <th>Country_Index</th>\n",
       "    </tr>\n",
       "  </thead>\n",
       "  <tbody>\n",
       "    <tr>\n",
       "      <th>0</th>\n",
       "      <td>2020-01-01</td>\n",
       "      <td>CARD-1</td>\n",
       "      <td>MRC-1</td>\n",
       "      <td>1.0</td>\n",
       "      <td>1</td>\n",
       "      <td>1</td>\n",
       "    </tr>\n",
       "    <tr>\n",
       "      <th>1</th>\n",
       "      <td>2020-01-02</td>\n",
       "      <td>CARD-2</td>\n",
       "      <td>MRC-2</td>\n",
       "      <td>2.0</td>\n",
       "      <td>2</td>\n",
       "      <td>2</td>\n",
       "    </tr>\n",
       "    <tr>\n",
       "      <th>2</th>\n",
       "      <td>2020-01-03</td>\n",
       "      <td>CARD-1</td>\n",
       "      <td>MRC-3</td>\n",
       "      <td>3.0</td>\n",
       "      <td>3</td>\n",
       "      <td>1</td>\n",
       "    </tr>\n",
       "    <tr>\n",
       "      <th>3</th>\n",
       "      <td>2020-01-04</td>\n",
       "      <td>CARD-1</td>\n",
       "      <td>MRC-3</td>\n",
       "      <td>4.0</td>\n",
       "      <td>3</td>\n",
       "      <td>3</td>\n",
       "    </tr>\n",
       "    <tr>\n",
       "      <th>4</th>\n",
       "      <td>2020-01-04</td>\n",
       "      <td>CARD-2</td>\n",
       "      <td>MRC-2</td>\n",
       "      <td>5.0</td>\n",
       "      <td>2</td>\n",
       "      <td>2</td>\n",
       "    </tr>\n",
       "    <tr>\n",
       "      <th>5</th>\n",
       "      <td>2020-01-06</td>\n",
       "      <td>CARD-2</td>\n",
       "      <td>MRC-4</td>\n",
       "      <td>6.0</td>\n",
       "      <td>4</td>\n",
       "      <td>1</td>\n",
       "    </tr>\n",
       "  </tbody>\n",
       "</table>\n",
       "</div>"
      ],
      "text/plain": [
       "        Date    Card Merchant  Amount  MCC_Index  Country_Index\n",
       "0 2020-01-01  CARD-1    MRC-1     1.0          1              1\n",
       "1 2020-01-02  CARD-2    MRC-2     2.0          2              2\n",
       "2 2020-01-03  CARD-1    MRC-3     3.0          3              1\n",
       "3 2020-01-04  CARD-1    MRC-3     4.0          3              3\n",
       "4 2020-01-04  CARD-2    MRC-2     5.0          2              2\n",
       "5 2020-01-06  CARD-2    MRC-4     6.0          4              1"
      ]
     },
     "execution_count": 13,
     "metadata": {},
     "output_type": "execute_result"
    }
   ],
   "source": [
    "card = ft.FeatureSource('Card', ft.FEATURE_TYPE_STRING)\n",
    "merchant = ft.FeatureSource('Merchant', ft.FEATURE_TYPE_STRING)\n",
    "amount = ft.FeatureSource('Amount', ft.FEATURE_TYPE_FLOAT)\n",
    "date = ft.FeatureSource('Date', ft.FEATURE_TYPE_DATE, format_code='%Y%m%d')\n",
    "mcc = ft.FeatureSource('MCC', ft.FEATURE_TYPE_CATEGORICAL, default='0000')\n",
    "country = ft.FeatureSource('Country', ft.FEATURE_TYPE_CATEGORICAL)\n",
    "\n",
    "# Define 2 Index Features\n",
    "mcc_i = ft.FeatureIndex(\n",
    "    'MCC_Index',             # Name of the feature\n",
    "    ft.FEATURE_TYPE_INT_16,  # Data type of the feature, in this case a small Int. Must be INT for Index Features\n",
    "    mcc                      # The base feature, i.e. the feature to be converted into an index\n",
    ")\n",
    "country_i = ft.FeatureIndex('Country_Index', ft.FEATURE_TYPE_INT_16, country)\n",
    "\n",
    "td = ft.TensorDefinition('Features', [date, card, merchant, amount, mcc_i, country_i])\n",
    "\n",
    "with en.EnginePandas(num_threads=1) as e:\n",
    "    df = e.df_from_csv(td, file, inference=False)\n",
    "\n",
    "df"
   ]
  },
  {
   "cell_type": "code",
   "execution_count": 14,
   "id": "31c6326c",
   "metadata": {},
   "outputs": [
    {
     "data": {
      "text/plain": [
       "Date             datetime64[ns]\n",
       "Card                     object\n",
       "Merchant                 object\n",
       "Amount                  float64\n",
       "MCC_Index                 int16\n",
       "Country_Index             int16\n",
       "dtype: object"
      ]
     },
     "execution_count": 14,
     "metadata": {},
     "output_type": "execute_result"
    }
   ],
   "source": [
    "df.dtypes"
   ]
  },
  {
   "cell_type": "markdown",
   "id": "5b6cd79d",
   "metadata": {},
   "source": [
    "We can have a look at the dictionary, the feature now knows about the values it encoutered"
   ]
  },
  {
   "cell_type": "code",
   "execution_count": 15,
   "id": "0e97e372",
   "metadata": {},
   "outputs": [
    {
     "data": {
      "text/plain": [
       "{'DE': 1, 'GB': 2, 'FR': 3}"
      ]
     },
     "execution_count": 15,
     "metadata": {},
     "output_type": "execute_result"
    }
   ],
   "source": [
    "country_i.dictionary"
   ]
  },
  {
   "cell_type": "markdown",
   "id": "538e91e1",
   "metadata": {},
   "source": [
    "### FeatureBin\n",
    "In some case we may want to convert a float number into a integer, something that can be used as a 'categorical' learning type feature. (For instance in order to use it in an embedding). We can use a binning feature to achieve this. Binning will take the total range of value in the base feature (the feature to bin) into equal parts, for instance 0->10 is bin-0, 10->20 is bin-1 etc.... "
   ]
  },
  {
   "cell_type": "code",
   "execution_count": 16,
   "id": "e0e5eb28",
   "metadata": {},
   "outputs": [
    {
     "name": "stderr",
     "output_type": "stream",
     "text": [
      "2023-03-12 15:38:49.828 eng1n3.common.engine           INFO     Start Engine...\n",
      "2023-03-12 15:38:49.829 eng1n3.pandas.pandasengine     INFO     Pandas Version : 1.5.3\n",
      "2023-03-12 15:38:49.829 eng1n3.pandas.pandasengine     INFO     Numpy Version : 1.23.5\n",
      "2023-03-12 15:38:49.830 eng1n3.pandas.pandasengine     INFO     Building Panda for : Features from file ./data/intro_card.csv\n",
      "2023-03-12 15:38:49.836 eng1n3.pandas.pandasengine     INFO     Reshaping DataFrame to: Features\n"
     ]
    },
    {
     "data": {
      "text/html": [
       "<div>\n",
       "<style scoped>\n",
       "    .dataframe tbody tr th:only-of-type {\n",
       "        vertical-align: middle;\n",
       "    }\n",
       "\n",
       "    .dataframe tbody tr th {\n",
       "        vertical-align: top;\n",
       "    }\n",
       "\n",
       "    .dataframe thead th {\n",
       "        text-align: right;\n",
       "    }\n",
       "</style>\n",
       "<table border=\"1\" class=\"dataframe\">\n",
       "  <thead>\n",
       "    <tr style=\"text-align: right;\">\n",
       "      <th></th>\n",
       "      <th>Date</th>\n",
       "      <th>Card</th>\n",
       "      <th>Merchant</th>\n",
       "      <th>Amount</th>\n",
       "      <th>Binned_Amount</th>\n",
       "      <th>MCC</th>\n",
       "      <th>Country</th>\n",
       "    </tr>\n",
       "  </thead>\n",
       "  <tbody>\n",
       "    <tr>\n",
       "      <th>0</th>\n",
       "      <td>2020-01-01</td>\n",
       "      <td>CARD-1</td>\n",
       "      <td>MRC-1</td>\n",
       "      <td>1.0</td>\n",
       "      <td>0</td>\n",
       "      <td>0001</td>\n",
       "      <td>DE</td>\n",
       "    </tr>\n",
       "    <tr>\n",
       "      <th>1</th>\n",
       "      <td>2020-01-02</td>\n",
       "      <td>CARD-2</td>\n",
       "      <td>MRC-2</td>\n",
       "      <td>2.0</td>\n",
       "      <td>1</td>\n",
       "      <td>0002</td>\n",
       "      <td>GB</td>\n",
       "    </tr>\n",
       "    <tr>\n",
       "      <th>2</th>\n",
       "      <td>2020-01-03</td>\n",
       "      <td>CARD-1</td>\n",
       "      <td>MRC-3</td>\n",
       "      <td>3.0</td>\n",
       "      <td>1</td>\n",
       "      <td>0003</td>\n",
       "      <td>DE</td>\n",
       "    </tr>\n",
       "    <tr>\n",
       "      <th>3</th>\n",
       "      <td>2020-01-04</td>\n",
       "      <td>CARD-1</td>\n",
       "      <td>MRC-3</td>\n",
       "      <td>4.0</td>\n",
       "      <td>2</td>\n",
       "      <td>0003</td>\n",
       "      <td>FR</td>\n",
       "    </tr>\n",
       "    <tr>\n",
       "      <th>4</th>\n",
       "      <td>2020-01-04</td>\n",
       "      <td>CARD-2</td>\n",
       "      <td>MRC-2</td>\n",
       "      <td>5.0</td>\n",
       "      <td>2</td>\n",
       "      <td>0002</td>\n",
       "      <td>GB</td>\n",
       "    </tr>\n",
       "    <tr>\n",
       "      <th>5</th>\n",
       "      <td>2020-01-06</td>\n",
       "      <td>CARD-2</td>\n",
       "      <td>MRC-4</td>\n",
       "      <td>6.0</td>\n",
       "      <td>2</td>\n",
       "      <td>0000</td>\n",
       "      <td>DE</td>\n",
       "    </tr>\n",
       "  </tbody>\n",
       "</table>\n",
       "</div>"
      ],
      "text/plain": [
       "        Date    Card Merchant  Amount Binned_Amount   MCC Country\n",
       "0 2020-01-01  CARD-1    MRC-1     1.0             0  0001      DE\n",
       "1 2020-01-02  CARD-2    MRC-2     2.0             1  0002      GB\n",
       "2 2020-01-03  CARD-1    MRC-3     3.0             1  0003      DE\n",
       "3 2020-01-04  CARD-1    MRC-3     4.0             2  0003      FR\n",
       "4 2020-01-04  CARD-2    MRC-2     5.0             2  0002      GB\n",
       "5 2020-01-06  CARD-2    MRC-4     6.0             2  0000      DE"
      ]
     },
     "execution_count": 16,
     "metadata": {},
     "output_type": "execute_result"
    }
   ],
   "source": [
    "card = ft.FeatureSource('Card', ft.FEATURE_TYPE_STRING)\n",
    "merchant = ft.FeatureSource('Merchant', ft.FEATURE_TYPE_STRING)\n",
    "amount = ft.FeatureSource('Amount', ft.FEATURE_TYPE_FLOAT)\n",
    "date = ft.FeatureSource('Date', ft.FEATURE_TYPE_DATE, format_code='%Y%m%d')\n",
    "mcc = ft.FeatureSource('MCC', ft.FEATURE_TYPE_CATEGORICAL, default='0000')\n",
    "country = ft.FeatureSource('Country', ft.FEATURE_TYPE_CATEGORICAL)\n",
    "\n",
    "# Define FeatureBin\n",
    "amount_b = ft.FeatureBin(\n",
    "    'Binned_Amount',         # Name of the feature\n",
    "    ft.FEATURE_TYPE_INT_16,  # Data type of the feature, in this case a small Int. Must be INT for Bin Features\n",
    "    amount,                  # The base feature, i.e. the feature to be converted into be binned\n",
    "    3                        # Specify the number of bins we want\n",
    ")\n",
    "\n",
    "td = ft.TensorDefinition('Features', [date, card, merchant, amount, amount_b, mcc, country])\n",
    "\n",
    "with en.EnginePandas(num_threads=1) as e:\n",
    "    df = e.df_from_csv(td, file, inference=False)\n",
    "\n",
    "df"
   ]
  },
  {
   "cell_type": "markdown",
   "id": "dbf7eb0f",
   "metadata": {},
   "source": [
    "The `Binned_Amount` feature is of type 'category', for optimal storage in the dataframe"
   ]
  },
  {
   "cell_type": "code",
   "execution_count": 17,
   "id": "576245a8",
   "metadata": {},
   "outputs": [
    {
     "data": {
      "text/plain": [
       "Date             datetime64[ns]\n",
       "Card                     object\n",
       "Merchant                 object\n",
       "Amount                  float64\n",
       "Binned_Amount          category\n",
       "MCC                    category\n",
       "Country                category\n",
       "dtype: object"
      ]
     },
     "execution_count": 17,
     "metadata": {},
     "output_type": "execute_result"
    }
   ],
   "source": [
    "df.dtypes"
   ]
  },
  {
   "cell_type": "markdown",
   "id": "a32de0d4",
   "metadata": {},
   "source": [
    "And we can ask the feature which bins it was using. It will report the maximum value for each bin. In this case\n",
    "- Anything <= 1, is bin `0`\n",
    "- Anything > 1 and <= 3.5 is bin `1`\n",
    "- Anything > 3.5 <= postive max float value is bin `2`"
   ]
  },
  {
   "cell_type": "code",
   "execution_count": 18,
   "id": "a3b07ecd",
   "metadata": {},
   "outputs": [
    {
     "data": {
      "text/plain": [
       "[1.0, 3.5, 1.7976931348623157e+308]"
      ]
     },
     "execution_count": 18,
     "metadata": {},
     "output_type": "execute_result"
    }
   ],
   "source": [
    "amount_b.bins"
   ]
  },
  {
   "cell_type": "markdown",
   "id": "87908102",
   "metadata": {},
   "source": [
    "### FeatureConcat\n",
    "It is also possible to concatenate two string features into a new feature. For instance concatenate the card and merchant features. We will see later on that this can be useful for tracking behaviours of a specifici card/merchant combination."
   ]
  },
  {
   "cell_type": "code",
   "execution_count": 19,
   "id": "3f6240c0",
   "metadata": {},
   "outputs": [
    {
     "name": "stderr",
     "output_type": "stream",
     "text": [
      "2023-03-12 15:38:56.027 eng1n3.common.engine           INFO     Start Engine...\n",
      "2023-03-12 15:38:56.028 eng1n3.pandas.pandasengine     INFO     Pandas Version : 1.5.3\n",
      "2023-03-12 15:38:56.028 eng1n3.pandas.pandasengine     INFO     Numpy Version : 1.23.5\n",
      "2023-03-12 15:38:56.028 eng1n3.pandas.pandasengine     INFO     Building Panda for : Features from file ./data/intro_card.csv\n",
      "2023-03-12 15:38:56.033 eng1n3.pandas.pandasengine     INFO     Reshaping DataFrame to: Features\n"
     ]
    },
    {
     "data": {
      "text/html": [
       "<div>\n",
       "<style scoped>\n",
       "    .dataframe tbody tr th:only-of-type {\n",
       "        vertical-align: middle;\n",
       "    }\n",
       "\n",
       "    .dataframe tbody tr th {\n",
       "        vertical-align: top;\n",
       "    }\n",
       "\n",
       "    .dataframe thead th {\n",
       "        text-align: right;\n",
       "    }\n",
       "</style>\n",
       "<table border=\"1\" class=\"dataframe\">\n",
       "  <thead>\n",
       "    <tr style=\"text-align: right;\">\n",
       "      <th></th>\n",
       "      <th>Date</th>\n",
       "      <th>Card</th>\n",
       "      <th>Merchant</th>\n",
       "      <th>Card_Merchant</th>\n",
       "      <th>Amount</th>\n",
       "      <th>MCC</th>\n",
       "      <th>Country</th>\n",
       "    </tr>\n",
       "  </thead>\n",
       "  <tbody>\n",
       "    <tr>\n",
       "      <th>0</th>\n",
       "      <td>2020-01-01</td>\n",
       "      <td>CARD-1</td>\n",
       "      <td>MRC-1</td>\n",
       "      <td>CARD-1MRC-1</td>\n",
       "      <td>1.0</td>\n",
       "      <td>0001</td>\n",
       "      <td>DE</td>\n",
       "    </tr>\n",
       "    <tr>\n",
       "      <th>1</th>\n",
       "      <td>2020-01-02</td>\n",
       "      <td>CARD-2</td>\n",
       "      <td>MRC-2</td>\n",
       "      <td>CARD-2MRC-2</td>\n",
       "      <td>2.0</td>\n",
       "      <td>0002</td>\n",
       "      <td>GB</td>\n",
       "    </tr>\n",
       "    <tr>\n",
       "      <th>2</th>\n",
       "      <td>2020-01-03</td>\n",
       "      <td>CARD-1</td>\n",
       "      <td>MRC-3</td>\n",
       "      <td>CARD-1MRC-3</td>\n",
       "      <td>3.0</td>\n",
       "      <td>0003</td>\n",
       "      <td>DE</td>\n",
       "    </tr>\n",
       "    <tr>\n",
       "      <th>3</th>\n",
       "      <td>2020-01-04</td>\n",
       "      <td>CARD-1</td>\n",
       "      <td>MRC-3</td>\n",
       "      <td>CARD-1MRC-3</td>\n",
       "      <td>4.0</td>\n",
       "      <td>0003</td>\n",
       "      <td>FR</td>\n",
       "    </tr>\n",
       "    <tr>\n",
       "      <th>4</th>\n",
       "      <td>2020-01-04</td>\n",
       "      <td>CARD-2</td>\n",
       "      <td>MRC-2</td>\n",
       "      <td>CARD-2MRC-2</td>\n",
       "      <td>5.0</td>\n",
       "      <td>0002</td>\n",
       "      <td>GB</td>\n",
       "    </tr>\n",
       "    <tr>\n",
       "      <th>5</th>\n",
       "      <td>2020-01-06</td>\n",
       "      <td>CARD-2</td>\n",
       "      <td>MRC-4</td>\n",
       "      <td>CARD-2MRC-4</td>\n",
       "      <td>6.0</td>\n",
       "      <td>0000</td>\n",
       "      <td>DE</td>\n",
       "    </tr>\n",
       "  </tbody>\n",
       "</table>\n",
       "</div>"
      ],
      "text/plain": [
       "        Date    Card Merchant Card_Merchant  Amount   MCC Country\n",
       "0 2020-01-01  CARD-1    MRC-1   CARD-1MRC-1     1.0  0001      DE\n",
       "1 2020-01-02  CARD-2    MRC-2   CARD-2MRC-2     2.0  0002      GB\n",
       "2 2020-01-03  CARD-1    MRC-3   CARD-1MRC-3     3.0  0003      DE\n",
       "3 2020-01-04  CARD-1    MRC-3   CARD-1MRC-3     4.0  0003      FR\n",
       "4 2020-01-04  CARD-2    MRC-2   CARD-2MRC-2     5.0  0002      GB\n",
       "5 2020-01-06  CARD-2    MRC-4   CARD-2MRC-4     6.0  0000      DE"
      ]
     },
     "execution_count": 19,
     "metadata": {},
     "output_type": "execute_result"
    }
   ],
   "source": [
    "card = ft.FeatureSource('Card', ft.FEATURE_TYPE_STRING)\n",
    "merchant = ft.FeatureSource('Merchant', ft.FEATURE_TYPE_STRING)\n",
    "amount = ft.FeatureSource('Amount', ft.FEATURE_TYPE_FLOAT)\n",
    "date = ft.FeatureSource('Date', ft.FEATURE_TYPE_DATE, format_code='%Y%m%d')\n",
    "mcc = ft.FeatureSource('MCC', ft.FEATURE_TYPE_CATEGORICAL, default='0000')\n",
    "country = ft.FeatureSource('Country', ft.FEATURE_TYPE_CATEGORICAL)\n",
    "\n",
    "# Define FeatureConcat\n",
    "card_merchant = ft.FeatureConcat(\n",
    "    'Card_Merchant',         # Name of the feature\n",
    "    ft.FEATURE_TYPE_STRING,  # Data type of the feature, in this case a STRING. We can only concat strings.\n",
    "    card,                    # The base feature, i.e. the first feature in the concat operation.\n",
    "    merchant                 # The concat feature, i.e the second feature in the concat operations\n",
    ")\n",
    "\n",
    "td = ft.TensorDefinition('Features', [date, card, merchant, card_merchant, amount, mcc, country])\n",
    "\n",
    "with en.EnginePandas(num_threads=1) as e:\n",
    "    df = e.df_from_csv(td, file, inference=False)\n",
    "\n",
    "df"
   ]
  },
  {
   "cell_type": "code",
   "execution_count": 20,
   "id": "0fb81671",
   "metadata": {},
   "outputs": [
    {
     "data": {
      "text/plain": [
       "Date             datetime64[ns]\n",
       "Card                     object\n",
       "Merchant                 object\n",
       "Card_Merchant            object\n",
       "Amount                  float64\n",
       "MCC                    category\n",
       "Country                category\n",
       "dtype: object"
      ]
     },
     "execution_count": 20,
     "metadata": {},
     "output_type": "execute_result"
    }
   ],
   "source": [
    "df.dtypes"
   ]
  },
  {
   "cell_type": "markdown",
   "id": "8f6d5bde",
   "metadata": {},
   "source": [
    "### FeatureExpression\n",
    "Eventhough there are multiple types of Features, in some instance we may want to create a feature as a custom function of some other features. That is where the FeatureExpression comes in handy. It allows us to define a feature as that takes a function and a list of parameters as input and it executes the function on earch row.\n",
    "\n",
    "Please note that executing a function, may **not be as efficient** as doing true vectorized operations on the rows."
   ]
  },
  {
   "cell_type": "code",
   "execution_count": 21,
   "id": "e8bff135",
   "metadata": {},
   "outputs": [
    {
     "name": "stderr",
     "output_type": "stream",
     "text": [
      "2023-03-12 15:38:59.506 eng1n3.common.engine           INFO     Start Engine...\n",
      "2023-03-12 15:38:59.507 eng1n3.pandas.pandasengine     INFO     Pandas Version : 1.5.3\n",
      "2023-03-12 15:38:59.508 eng1n3.pandas.pandasengine     INFO     Numpy Version : 1.23.5\n",
      "2023-03-12 15:38:59.508 eng1n3.pandas.pandasengine     INFO     Building Panda for : Features from file ./data/intro_card.csv\n",
      "2023-03-12 15:38:59.515 eng1n3.pandas.pandasengine     INFO     Reshaping DataFrame to: Features\n"
     ]
    },
    {
     "data": {
      "text/html": [
       "<div>\n",
       "<style scoped>\n",
       "    .dataframe tbody tr th:only-of-type {\n",
       "        vertical-align: middle;\n",
       "    }\n",
       "\n",
       "    .dataframe tbody tr th {\n",
       "        vertical-align: top;\n",
       "    }\n",
       "\n",
       "    .dataframe thead th {\n",
       "        text-align: right;\n",
       "    }\n",
       "</style>\n",
       "<table border=\"1\" class=\"dataframe\">\n",
       "  <thead>\n",
       "    <tr style=\"text-align: right;\">\n",
       "      <th></th>\n",
       "      <th>Date</th>\n",
       "      <th>Card</th>\n",
       "      <th>Merchant</th>\n",
       "      <th>Amount</th>\n",
       "      <th>Double_Amount</th>\n",
       "      <th>MCC</th>\n",
       "      <th>Country</th>\n",
       "    </tr>\n",
       "  </thead>\n",
       "  <tbody>\n",
       "    <tr>\n",
       "      <th>0</th>\n",
       "      <td>2020-01-01</td>\n",
       "      <td>CARD-1</td>\n",
       "      <td>MRC-1</td>\n",
       "      <td>1.0</td>\n",
       "      <td>2.0</td>\n",
       "      <td>0001</td>\n",
       "      <td>DE</td>\n",
       "    </tr>\n",
       "    <tr>\n",
       "      <th>1</th>\n",
       "      <td>2020-01-02</td>\n",
       "      <td>CARD-2</td>\n",
       "      <td>MRC-2</td>\n",
       "      <td>2.0</td>\n",
       "      <td>4.0</td>\n",
       "      <td>0002</td>\n",
       "      <td>GB</td>\n",
       "    </tr>\n",
       "    <tr>\n",
       "      <th>2</th>\n",
       "      <td>2020-01-03</td>\n",
       "      <td>CARD-1</td>\n",
       "      <td>MRC-3</td>\n",
       "      <td>3.0</td>\n",
       "      <td>6.0</td>\n",
       "      <td>0003</td>\n",
       "      <td>DE</td>\n",
       "    </tr>\n",
       "    <tr>\n",
       "      <th>3</th>\n",
       "      <td>2020-01-04</td>\n",
       "      <td>CARD-1</td>\n",
       "      <td>MRC-3</td>\n",
       "      <td>4.0</td>\n",
       "      <td>8.0</td>\n",
       "      <td>0003</td>\n",
       "      <td>FR</td>\n",
       "    </tr>\n",
       "    <tr>\n",
       "      <th>4</th>\n",
       "      <td>2020-01-04</td>\n",
       "      <td>CARD-2</td>\n",
       "      <td>MRC-2</td>\n",
       "      <td>5.0</td>\n",
       "      <td>10.0</td>\n",
       "      <td>0002</td>\n",
       "      <td>GB</td>\n",
       "    </tr>\n",
       "    <tr>\n",
       "      <th>5</th>\n",
       "      <td>2020-01-06</td>\n",
       "      <td>CARD-2</td>\n",
       "      <td>MRC-4</td>\n",
       "      <td>6.0</td>\n",
       "      <td>12.0</td>\n",
       "      <td>0000</td>\n",
       "      <td>DE</td>\n",
       "    </tr>\n",
       "  </tbody>\n",
       "</table>\n",
       "</div>"
      ],
      "text/plain": [
       "        Date    Card Merchant  Amount  Double_Amount   MCC Country\n",
       "0 2020-01-01  CARD-1    MRC-1     1.0            2.0  0001      DE\n",
       "1 2020-01-02  CARD-2    MRC-2     2.0            4.0  0002      GB\n",
       "2 2020-01-03  CARD-1    MRC-3     3.0            6.0  0003      DE\n",
       "3 2020-01-04  CARD-1    MRC-3     4.0            8.0  0003      FR\n",
       "4 2020-01-04  CARD-2    MRC-2     5.0           10.0  0002      GB\n",
       "5 2020-01-06  CARD-2    MRC-4     6.0           12.0  0000      DE"
      ]
     },
     "execution_count": 21,
     "metadata": {},
     "output_type": "execute_result"
    }
   ],
   "source": [
    "# Create a small Python function that doubles an input amount. \n",
    "# Note: The function must be available in the ROOT context of the engine!\n",
    "def double_fn(x: float) -> float:\n",
    "    return x * 2\n",
    "\n",
    "card = ft.FeatureSource('Card', ft.FEATURE_TYPE_STRING)\n",
    "merchant = ft.FeatureSource('Merchant', ft.FEATURE_TYPE_STRING)\n",
    "amount = ft.FeatureSource('Amount', ft.FEATURE_TYPE_FLOAT)\n",
    "date = ft.FeatureSource('Date', ft.FEATURE_TYPE_DATE, format_code='%Y%m%d')\n",
    "mcc = ft.FeatureSource('MCC', ft.FEATURE_TYPE_CATEGORICAL, default='0000')\n",
    "country = ft.FeatureSource('Country', ft.FEATURE_TYPE_CATEGORICAL)\n",
    "\n",
    "# Define FeatureExpression\n",
    "double_amount = ft.FeatureExpression(\n",
    "    'Double_Amount',         # Name of the feature\n",
    "    ft.FEATURE_TYPE_FLOAT,   # Data type of the feature, in this case a Float, the output of 'double_fn' is a float \n",
    "    double_fn,               # The expression we want to evaluate. Our 'double' function\n",
    "    [amount]                 # The parameter features as list, in this case we only have one input, the 'x' value\n",
    ")\n",
    "\n",
    "td = ft.TensorDefinition('Features', [date, card, merchant, amount, double_amount, mcc, country])\n",
    "\n",
    "with en.EnginePandas(num_threads=1) as e:\n",
    "    df = e.df_from_csv(td, file, inference=False)\n",
    "\n",
    "df\n"
   ]
  },
  {
   "cell_type": "markdown",
   "id": "11b13e0b",
   "metadata": {},
   "source": [
    "### FeatureRatio\n",
    "As the name suggests the FeatureRatio creates a new feature by dividing a base_feature by a denominator feature. This is generally faster than using a FeatureExpression like shown earlier. And it has some 0 division protection."
   ]
  },
  {
   "cell_type": "code",
   "execution_count": 22,
   "id": "4380e4da",
   "metadata": {},
   "outputs": [
    {
     "name": "stderr",
     "output_type": "stream",
     "text": [
      "2023-03-12 15:39:01.912 eng1n3.common.engine           INFO     Start Engine...\n",
      "2023-03-12 15:39:01.913 eng1n3.pandas.pandasengine     INFO     Pandas Version : 1.5.3\n",
      "2023-03-12 15:39:01.914 eng1n3.pandas.pandasengine     INFO     Numpy Version : 1.23.5\n",
      "2023-03-12 15:39:01.914 eng1n3.pandas.pandasengine     INFO     Building Panda for : Features from file ./data/intro_card.csv\n",
      "2023-03-12 15:39:01.920 eng1n3.pandas.pandasengine     INFO     Reshaping DataFrame to: Features\n"
     ]
    },
    {
     "data": {
      "text/html": [
       "<div>\n",
       "<style scoped>\n",
       "    .dataframe tbody tr th:only-of-type {\n",
       "        vertical-align: middle;\n",
       "    }\n",
       "\n",
       "    .dataframe tbody tr th {\n",
       "        vertical-align: top;\n",
       "    }\n",
       "\n",
       "    .dataframe thead th {\n",
       "        text-align: right;\n",
       "    }\n",
       "</style>\n",
       "<table border=\"1\" class=\"dataframe\">\n",
       "  <thead>\n",
       "    <tr style=\"text-align: right;\">\n",
       "      <th></th>\n",
       "      <th>Date</th>\n",
       "      <th>Card</th>\n",
       "      <th>Merchant</th>\n",
       "      <th>Amount</th>\n",
       "      <th>Double_Amount</th>\n",
       "      <th>Two</th>\n",
       "      <th>MCC</th>\n",
       "      <th>Country</th>\n",
       "    </tr>\n",
       "  </thead>\n",
       "  <tbody>\n",
       "    <tr>\n",
       "      <th>0</th>\n",
       "      <td>2020-01-01</td>\n",
       "      <td>CARD-1</td>\n",
       "      <td>MRC-1</td>\n",
       "      <td>1.0</td>\n",
       "      <td>2.0</td>\n",
       "      <td>2.0</td>\n",
       "      <td>0001</td>\n",
       "      <td>DE</td>\n",
       "    </tr>\n",
       "    <tr>\n",
       "      <th>1</th>\n",
       "      <td>2020-01-02</td>\n",
       "      <td>CARD-2</td>\n",
       "      <td>MRC-2</td>\n",
       "      <td>2.0</td>\n",
       "      <td>4.0</td>\n",
       "      <td>2.0</td>\n",
       "      <td>0002</td>\n",
       "      <td>GB</td>\n",
       "    </tr>\n",
       "    <tr>\n",
       "      <th>2</th>\n",
       "      <td>2020-01-03</td>\n",
       "      <td>CARD-1</td>\n",
       "      <td>MRC-3</td>\n",
       "      <td>3.0</td>\n",
       "      <td>6.0</td>\n",
       "      <td>2.0</td>\n",
       "      <td>0003</td>\n",
       "      <td>DE</td>\n",
       "    </tr>\n",
       "    <tr>\n",
       "      <th>3</th>\n",
       "      <td>2020-01-04</td>\n",
       "      <td>CARD-1</td>\n",
       "      <td>MRC-3</td>\n",
       "      <td>4.0</td>\n",
       "      <td>8.0</td>\n",
       "      <td>2.0</td>\n",
       "      <td>0003</td>\n",
       "      <td>FR</td>\n",
       "    </tr>\n",
       "    <tr>\n",
       "      <th>4</th>\n",
       "      <td>2020-01-04</td>\n",
       "      <td>CARD-2</td>\n",
       "      <td>MRC-2</td>\n",
       "      <td>5.0</td>\n",
       "      <td>10.0</td>\n",
       "      <td>2.0</td>\n",
       "      <td>0002</td>\n",
       "      <td>GB</td>\n",
       "    </tr>\n",
       "    <tr>\n",
       "      <th>5</th>\n",
       "      <td>2020-01-06</td>\n",
       "      <td>CARD-2</td>\n",
       "      <td>MRC-4</td>\n",
       "      <td>6.0</td>\n",
       "      <td>12.0</td>\n",
       "      <td>2.0</td>\n",
       "      <td>0000</td>\n",
       "      <td>DE</td>\n",
       "    </tr>\n",
       "  </tbody>\n",
       "</table>\n",
       "</div>"
      ],
      "text/plain": [
       "        Date    Card Merchant  Amount  Double_Amount  Two   MCC Country\n",
       "0 2020-01-01  CARD-1    MRC-1     1.0            2.0  2.0  0001      DE\n",
       "1 2020-01-02  CARD-2    MRC-2     2.0            4.0  2.0  0002      GB\n",
       "2 2020-01-03  CARD-1    MRC-3     3.0            6.0  2.0  0003      DE\n",
       "3 2020-01-04  CARD-1    MRC-3     4.0            8.0  2.0  0003      FR\n",
       "4 2020-01-04  CARD-2    MRC-2     5.0           10.0  2.0  0002      GB\n",
       "5 2020-01-06  CARD-2    MRC-4     6.0           12.0  2.0  0000      DE"
      ]
     },
     "execution_count": 22,
     "metadata": {},
     "output_type": "execute_result"
    }
   ],
   "source": [
    "def double(x: float) -> float:\n",
    "    return x * 2\n",
    "\n",
    "card = ft.FeatureSource('Card', ft.FEATURE_TYPE_STRING)\n",
    "merchant = ft.FeatureSource('Merchant', ft.FEATURE_TYPE_STRING)\n",
    "amount = ft.FeatureSource('Amount', ft.FEATURE_TYPE_FLOAT)\n",
    "date = ft.FeatureSource('Date', ft.FEATURE_TYPE_DATE, format_code='%Y%m%d')\n",
    "mcc = ft.FeatureSource('MCC', ft.FEATURE_TYPE_CATEGORICAL, default='0000')\n",
    "country = ft.FeatureSource('Country', ft.FEATURE_TYPE_CATEGORICAL)\n",
    "double_amount = ft.FeatureExpression('Double_Amount', ft.FEATURE_TYPE_FLOAT, double, [amount])\n",
    "\n",
    "# Define FeatureRatio\n",
    "two = ft.FeatureRatio(\n",
    "    'Two',                   # Name of the feature\n",
    "    ft.FEATURE_TYPE_FLOAT_32,# Data type of the feature, in this case a Float, as the output of 'double' is a float \n",
    "    double_amount,           # The enumerator of our division, the ouput of the double function\n",
    "    amount                   # The denominator of our division, the original amount\n",
    ")\n",
    "\n",
    "td = ft.TensorDefinition('Features', [date, card, merchant, amount, double_amount, two, mcc, country])\n",
    "\n",
    "with en.EnginePandas(num_threads=1) as e:\n",
    "    df = e.df_from_csv(td, file, inference=False)\n",
    "\n",
    "df"
   ]
  },
  {
   "cell_type": "markdown",
   "id": "69ad851c",
   "metadata": {},
   "source": [
    "For illustration purposes the data-type of the ratio feature was set to `float32 `. Whereas the original amount were `float64`, don't do this in a project, it can lead to overflow problems!"
   ]
  },
  {
   "cell_type": "code",
   "execution_count": 23,
   "id": "5daee347",
   "metadata": {},
   "outputs": [
    {
     "data": {
      "text/plain": [
       "Date             datetime64[ns]\n",
       "Card                     object\n",
       "Merchant                 object\n",
       "Amount                  float64\n",
       "Double_Amount           float64\n",
       "Two                     float32\n",
       "MCC                    category\n",
       "Country                category\n",
       "dtype: object"
      ]
     },
     "execution_count": 23,
     "metadata": {},
     "output_type": "execute_result"
    }
   ],
   "source": [
    "df.dtypes"
   ]
  },
  {
   "cell_type": "markdown",
   "id": "8ea2e364",
   "metadata": {},
   "source": [
    "### FeatureNormalizerScale\n",
    "In our little test dataset the amounts are not big at all, in real life datasets one will clearly encounter larger numbers. \n",
    "\n",
    "Though it is not possible to train Neural Nets that have large numbers, it is generally strongly advised not to do so. Neural Nets tend to learn much better if the numbers are around 0. \n",
    "\n",
    "One way to scale is to reduce the feature to a range between 0 and 1 by subtracting the minimum value and dividing by the difference between the maximum and minimum value. \n",
    "\n",
    "$x_{scaled} = \\frac{x - x_{min}} {x_{max} - x_{min}}\\$"
   ]
  },
  {
   "cell_type": "code",
   "execution_count": 24,
   "id": "c9db0b6a",
   "metadata": {},
   "outputs": [
    {
     "name": "stderr",
     "output_type": "stream",
     "text": [
      "2023-03-12 15:39:05.453 eng1n3.common.engine           INFO     Start Engine...\n",
      "2023-03-12 15:39:05.454 eng1n3.pandas.pandasengine     INFO     Pandas Version : 1.5.3\n",
      "2023-03-12 15:39:05.455 eng1n3.pandas.pandasengine     INFO     Numpy Version : 1.23.5\n",
      "2023-03-12 15:39:05.456 eng1n3.pandas.pandasengine     INFO     Building Panda for : Features from file ./data/intro_card.csv\n",
      "2023-03-12 15:39:05.460 eng1n3.pandas.dataframebuilder.featurenormalizescaleprocessor INFO     Create Scaled_Amount Scale Amount. Min. 1.00 Max. 6.00\n",
      "2023-03-12 15:39:05.461 eng1n3.pandas.pandasengine     INFO     Reshaping DataFrame to: Features\n"
     ]
    },
    {
     "data": {
      "text/html": [
       "<div>\n",
       "<style scoped>\n",
       "    .dataframe tbody tr th:only-of-type {\n",
       "        vertical-align: middle;\n",
       "    }\n",
       "\n",
       "    .dataframe tbody tr th {\n",
       "        vertical-align: top;\n",
       "    }\n",
       "\n",
       "    .dataframe thead th {\n",
       "        text-align: right;\n",
       "    }\n",
       "</style>\n",
       "<table border=\"1\" class=\"dataframe\">\n",
       "  <thead>\n",
       "    <tr style=\"text-align: right;\">\n",
       "      <th></th>\n",
       "      <th>Date</th>\n",
       "      <th>Card</th>\n",
       "      <th>Merchant</th>\n",
       "      <th>Amount</th>\n",
       "      <th>Scaled_Amount</th>\n",
       "      <th>MCC</th>\n",
       "      <th>Country</th>\n",
       "    </tr>\n",
       "  </thead>\n",
       "  <tbody>\n",
       "    <tr>\n",
       "      <th>0</th>\n",
       "      <td>2020-01-01</td>\n",
       "      <td>CARD-1</td>\n",
       "      <td>MRC-1</td>\n",
       "      <td>1.0</td>\n",
       "      <td>0.0</td>\n",
       "      <td>0001</td>\n",
       "      <td>DE</td>\n",
       "    </tr>\n",
       "    <tr>\n",
       "      <th>1</th>\n",
       "      <td>2020-01-02</td>\n",
       "      <td>CARD-2</td>\n",
       "      <td>MRC-2</td>\n",
       "      <td>2.0</td>\n",
       "      <td>0.2</td>\n",
       "      <td>0002</td>\n",
       "      <td>GB</td>\n",
       "    </tr>\n",
       "    <tr>\n",
       "      <th>2</th>\n",
       "      <td>2020-01-03</td>\n",
       "      <td>CARD-1</td>\n",
       "      <td>MRC-3</td>\n",
       "      <td>3.0</td>\n",
       "      <td>0.4</td>\n",
       "      <td>0003</td>\n",
       "      <td>DE</td>\n",
       "    </tr>\n",
       "    <tr>\n",
       "      <th>3</th>\n",
       "      <td>2020-01-04</td>\n",
       "      <td>CARD-1</td>\n",
       "      <td>MRC-3</td>\n",
       "      <td>4.0</td>\n",
       "      <td>0.6</td>\n",
       "      <td>0003</td>\n",
       "      <td>FR</td>\n",
       "    </tr>\n",
       "    <tr>\n",
       "      <th>4</th>\n",
       "      <td>2020-01-04</td>\n",
       "      <td>CARD-2</td>\n",
       "      <td>MRC-2</td>\n",
       "      <td>5.0</td>\n",
       "      <td>0.8</td>\n",
       "      <td>0002</td>\n",
       "      <td>GB</td>\n",
       "    </tr>\n",
       "    <tr>\n",
       "      <th>5</th>\n",
       "      <td>2020-01-06</td>\n",
       "      <td>CARD-2</td>\n",
       "      <td>MRC-4</td>\n",
       "      <td>6.0</td>\n",
       "      <td>1.0</td>\n",
       "      <td>0000</td>\n",
       "      <td>DE</td>\n",
       "    </tr>\n",
       "  </tbody>\n",
       "</table>\n",
       "</div>"
      ],
      "text/plain": [
       "        Date    Card Merchant  Amount  Scaled_Amount   MCC Country\n",
       "0 2020-01-01  CARD-1    MRC-1     1.0            0.0  0001      DE\n",
       "1 2020-01-02  CARD-2    MRC-2     2.0            0.2  0002      GB\n",
       "2 2020-01-03  CARD-1    MRC-3     3.0            0.4  0003      DE\n",
       "3 2020-01-04  CARD-1    MRC-3     4.0            0.6  0003      FR\n",
       "4 2020-01-04  CARD-2    MRC-2     5.0            0.8  0002      GB\n",
       "5 2020-01-06  CARD-2    MRC-4     6.0            1.0  0000      DE"
      ]
     },
     "execution_count": 24,
     "metadata": {},
     "output_type": "execute_result"
    }
   ],
   "source": [
    "card = ft.FeatureSource('Card', ft.FEATURE_TYPE_STRING)\n",
    "merchant = ft.FeatureSource('Merchant', ft.FEATURE_TYPE_STRING)\n",
    "amount = ft.FeatureSource('Amount', ft.FEATURE_TYPE_FLOAT)\n",
    "date = ft.FeatureSource('Date', ft.FEATURE_TYPE_DATE, format_code='%Y%m%d')\n",
    "mcc = ft.FeatureSource('MCC', ft.FEATURE_TYPE_CATEGORICAL, default='0000')\n",
    "country = ft.FeatureSource('Country', ft.FEATURE_TYPE_CATEGORICAL)\n",
    "\n",
    "# Define NormalizerScale\n",
    "scale = ft.FeatureNormalizeScale(\n",
    "    'Scaled_Amount',         # Name of the feature\n",
    "    ft.FEATURE_TYPE_FLOAT,   # Data type of the feature, in this case a Float, as the output of 'double' is a float \n",
    "    amount                   # The base feature we want to scale. Here we are scaling the amount\n",
    ")\n",
    "\n",
    "td = ft.TensorDefinition('Features', [date, card, merchant, amount, scale, mcc, country])\n",
    "\n",
    "with en.EnginePandas(num_threads=1) as e:\n",
    "    df = e.df_from_csv(td, file, inference=False)\n",
    "\n",
    "df"
   ]
  },
  {
   "cell_type": "markdown",
   "id": "91f0b600",
   "metadata": {},
   "source": [
    "We can ask the feature which min and max it used."
   ]
  },
  {
   "cell_type": "code",
   "execution_count": 25,
   "id": "e99ed5b4",
   "metadata": {},
   "outputs": [
    {
     "data": {
      "text/plain": [
       "(1.0, 6.0)"
      ]
     },
     "execution_count": 25,
     "metadata": {},
     "output_type": "execute_result"
    }
   ],
   "source": [
    "scale.minimum, scale.maximum"
   ]
  },
  {
   "cell_type": "code",
   "execution_count": 26,
   "id": "0e1745f7",
   "metadata": {},
   "outputs": [
    {
     "data": {
      "text/plain": [
       "0    0.0\n",
       "1    0.2\n",
       "2    0.4\n",
       "3    0.6\n",
       "4    0.8\n",
       "5    1.0\n",
       "Name: Amount, dtype: float64"
      ]
     },
     "execution_count": 26,
     "metadata": {},
     "output_type": "execute_result"
    }
   ],
   "source": [
    "# We can see how the instances have been converted\n",
    "(df['Amount']-1)/(6-1)"
   ]
  },
  {
   "cell_type": "markdown",
   "id": "6ed7ecb9",
   "metadata": {},
   "source": [
    "This scaler works best if the distribution is **not** Gaussian (This tends to be the case for raw amount in payments, they tend to have log-normalish distribution).\n",
    "\n",
    "But it does not like the standard deviation to be too big and it's sensitive to outliers. "
   ]
  },
  {
   "cell_type": "markdown",
   "id": "28483ce1",
   "metadata": {},
   "source": [
    "### FeatureNormalizerStandard\n",
    "Another way of Normalizing a feature is standardization. Here we assume the data is normally distribtuted, the data is transformed so that is it centered around 0 with a standard deviation of 1. It is achieved by subtracting the mean from each value and dividing by the standard deviation.\n",
    "\n",
    "$x_{scaled} = \\frac{x - \\mu} {\\sigma}\\$"
   ]
  },
  {
   "cell_type": "code",
   "execution_count": 27,
   "id": "a098d852",
   "metadata": {},
   "outputs": [
    {
     "name": "stderr",
     "output_type": "stream",
     "text": [
      "2023-03-12 15:39:10.720 eng1n3.common.engine           INFO     Start Engine...\n",
      "2023-03-12 15:39:10.721 eng1n3.pandas.pandasengine     INFO     Pandas Version : 1.5.3\n",
      "2023-03-12 15:39:10.722 eng1n3.pandas.pandasengine     INFO     Numpy Version : 1.23.5\n",
      "2023-03-12 15:39:10.722 eng1n3.pandas.pandasengine     INFO     Building Panda for : Features from file ./data/intro_card.csv\n",
      "2023-03-12 15:39:10.729 eng1n3.pandas.dataframebuilder.featurenormalizestandardprocessor INFO     Create Scaled_Amount Standard Amount feature. Mean 3.50 Std 1.87\n",
      "2023-03-12 15:39:10.730 eng1n3.pandas.pandasengine     INFO     Reshaping DataFrame to: Features\n"
     ]
    },
    {
     "data": {
      "text/html": [
       "<div>\n",
       "<style scoped>\n",
       "    .dataframe tbody tr th:only-of-type {\n",
       "        vertical-align: middle;\n",
       "    }\n",
       "\n",
       "    .dataframe tbody tr th {\n",
       "        vertical-align: top;\n",
       "    }\n",
       "\n",
       "    .dataframe thead th {\n",
       "        text-align: right;\n",
       "    }\n",
       "</style>\n",
       "<table border=\"1\" class=\"dataframe\">\n",
       "  <thead>\n",
       "    <tr style=\"text-align: right;\">\n",
       "      <th></th>\n",
       "      <th>Date</th>\n",
       "      <th>Card</th>\n",
       "      <th>Merchant</th>\n",
       "      <th>Amount</th>\n",
       "      <th>Scaled_Amount</th>\n",
       "      <th>MCC</th>\n",
       "      <th>Country</th>\n",
       "    </tr>\n",
       "  </thead>\n",
       "  <tbody>\n",
       "    <tr>\n",
       "      <th>0</th>\n",
       "      <td>2020-01-01</td>\n",
       "      <td>CARD-1</td>\n",
       "      <td>MRC-1</td>\n",
       "      <td>1.0</td>\n",
       "      <td>-1.336306</td>\n",
       "      <td>0001</td>\n",
       "      <td>DE</td>\n",
       "    </tr>\n",
       "    <tr>\n",
       "      <th>1</th>\n",
       "      <td>2020-01-02</td>\n",
       "      <td>CARD-2</td>\n",
       "      <td>MRC-2</td>\n",
       "      <td>2.0</td>\n",
       "      <td>-0.801784</td>\n",
       "      <td>0002</td>\n",
       "      <td>GB</td>\n",
       "    </tr>\n",
       "    <tr>\n",
       "      <th>2</th>\n",
       "      <td>2020-01-03</td>\n",
       "      <td>CARD-1</td>\n",
       "      <td>MRC-3</td>\n",
       "      <td>3.0</td>\n",
       "      <td>-0.267261</td>\n",
       "      <td>0003</td>\n",
       "      <td>DE</td>\n",
       "    </tr>\n",
       "    <tr>\n",
       "      <th>3</th>\n",
       "      <td>2020-01-04</td>\n",
       "      <td>CARD-1</td>\n",
       "      <td>MRC-3</td>\n",
       "      <td>4.0</td>\n",
       "      <td>0.267261</td>\n",
       "      <td>0003</td>\n",
       "      <td>FR</td>\n",
       "    </tr>\n",
       "    <tr>\n",
       "      <th>4</th>\n",
       "      <td>2020-01-04</td>\n",
       "      <td>CARD-2</td>\n",
       "      <td>MRC-2</td>\n",
       "      <td>5.0</td>\n",
       "      <td>0.801784</td>\n",
       "      <td>0002</td>\n",
       "      <td>GB</td>\n",
       "    </tr>\n",
       "    <tr>\n",
       "      <th>5</th>\n",
       "      <td>2020-01-06</td>\n",
       "      <td>CARD-2</td>\n",
       "      <td>MRC-4</td>\n",
       "      <td>6.0</td>\n",
       "      <td>1.336306</td>\n",
       "      <td>0000</td>\n",
       "      <td>DE</td>\n",
       "    </tr>\n",
       "  </tbody>\n",
       "</table>\n",
       "</div>"
      ],
      "text/plain": [
       "        Date    Card Merchant  Amount  Scaled_Amount   MCC Country\n",
       "0 2020-01-01  CARD-1    MRC-1     1.0      -1.336306  0001      DE\n",
       "1 2020-01-02  CARD-2    MRC-2     2.0      -0.801784  0002      GB\n",
       "2 2020-01-03  CARD-1    MRC-3     3.0      -0.267261  0003      DE\n",
       "3 2020-01-04  CARD-1    MRC-3     4.0       0.267261  0003      FR\n",
       "4 2020-01-04  CARD-2    MRC-2     5.0       0.801784  0002      GB\n",
       "5 2020-01-06  CARD-2    MRC-4     6.0       1.336306  0000      DE"
      ]
     },
     "execution_count": 27,
     "metadata": {},
     "output_type": "execute_result"
    }
   ],
   "source": [
    "card = ft.FeatureSource('Card', ft.FEATURE_TYPE_STRING)\n",
    "merchant = ft.FeatureSource('Merchant', ft.FEATURE_TYPE_STRING)\n",
    "amount = ft.FeatureSource('Amount', ft.FEATURE_TYPE_FLOAT)\n",
    "date = ft.FeatureSource('Date', ft.FEATURE_TYPE_DATE, format_code='%Y%m%d')\n",
    "mcc = ft.FeatureSource('MCC', ft.FEATURE_TYPE_CATEGORICAL, default='0000')\n",
    "country = ft.FeatureSource('Country', ft.FEATURE_TYPE_CATEGORICAL)\n",
    "\n",
    "# Define NormalizerScale\n",
    "standard = ft.FeatureNormalizeStandard(\n",
    "    'Scaled_Amount',         # Name of the feature\n",
    "    ft.FEATURE_TYPE_FLOAT,   # Data type of the feature, in this case a Float. \n",
    "    amount                   # The base feature we want to standardize. Here we are scaling the amount\n",
    ")\n",
    "\n",
    "td = ft.TensorDefinition('Features', [date, card, merchant, amount, standard, mcc, country])\n",
    "\n",
    "with en.EnginePandas(num_threads=1) as e:\n",
    "    df = e.df_from_csv(td, file, inference=False)\n",
    "\n",
    "df"
   ]
  },
  {
   "cell_type": "markdown",
   "id": "56d26efa",
   "metadata": {},
   "source": [
    "The feature can tell us which mean and standard deviation it used"
   ]
  },
  {
   "cell_type": "code",
   "execution_count": 28,
   "id": "f68b2d1b",
   "metadata": {},
   "outputs": [
    {
     "data": {
      "text/plain": [
       "(3.5, 1.8708286933869707)"
      ]
     },
     "execution_count": 28,
     "metadata": {},
     "output_type": "execute_result"
    }
   ],
   "source": [
    "standard.mean,standard.stddev"
   ]
  },
  {
   "cell_type": "code",
   "execution_count": 29,
   "id": "8ba296a5",
   "metadata": {},
   "outputs": [
    {
     "data": {
      "text/plain": [
       "0   -1.336306\n",
       "1   -0.801784\n",
       "2   -0.267261\n",
       "3    0.267261\n",
       "4    0.801784\n",
       "5    1.336306\n",
       "Name: Amount, dtype: float64"
      ]
     },
     "execution_count": 29,
     "metadata": {},
     "output_type": "execute_result"
    }
   ],
   "source": [
    "# The value are calculated as;\n",
    "(df['Amount']-standard.mean)/standard.stddev"
   ]
  },
  {
   "cell_type": "markdown",
   "id": "e8e8a8b9",
   "metadata": {},
   "source": [
    "As mentioned amounts in payments are typically not normally distributed, one trick we can apply is taking the $log_{base}$ first. That tends to make the distribution more normal."
   ]
  },
  {
   "cell_type": "code",
   "execution_count": 35,
   "id": "f0cde1fa",
   "metadata": {},
   "outputs": [
    {
     "name": "stderr",
     "output_type": "stream",
     "text": [
      "2023-03-12 15:45:44.765 eng1n3.common.engine           INFO     Start Engine...\n",
      "2023-03-12 15:45:44.765 eng1n3.pandas.pandasengine     INFO     Pandas Version : 1.5.3\n",
      "2023-03-12 15:45:44.766 eng1n3.pandas.pandasengine     INFO     Numpy Version : 1.23.5\n",
      "2023-03-12 15:45:44.766 eng1n3.pandas.pandasengine     INFO     Building Panda for : Features from file ./data/intro_card.csv\n",
      "2023-03-12 15:45:44.772 eng1n3.pandas.dataframebuilder.featurenormalizestandardprocessor INFO     Create Standard_Amount Standard Amount feature. Mean 1.10 Std 0.66\n",
      "2023-03-12 15:45:44.773 eng1n3.pandas.pandasengine     INFO     Reshaping DataFrame to: Features\n"
     ]
    },
    {
     "data": {
      "text/html": [
       "<div>\n",
       "<style scoped>\n",
       "    .dataframe tbody tr th:only-of-type {\n",
       "        vertical-align: middle;\n",
       "    }\n",
       "\n",
       "    .dataframe tbody tr th {\n",
       "        vertical-align: top;\n",
       "    }\n",
       "\n",
       "    .dataframe thead th {\n",
       "        text-align: right;\n",
       "    }\n",
       "</style>\n",
       "<table border=\"1\" class=\"dataframe\">\n",
       "  <thead>\n",
       "    <tr style=\"text-align: right;\">\n",
       "      <th></th>\n",
       "      <th>Date</th>\n",
       "      <th>Card</th>\n",
       "      <th>Merchant</th>\n",
       "      <th>Amount</th>\n",
       "      <th>Standard_Amount</th>\n",
       "      <th>MCC</th>\n",
       "      <th>Country</th>\n",
       "    </tr>\n",
       "  </thead>\n",
       "  <tbody>\n",
       "    <tr>\n",
       "      <th>0</th>\n",
       "      <td>2020-01-01</td>\n",
       "      <td>CARD-1</td>\n",
       "      <td>MRC-1</td>\n",
       "      <td>1.0</td>\n",
       "      <td>-1.653464</td>\n",
       "      <td>0001</td>\n",
       "      <td>DE</td>\n",
       "    </tr>\n",
       "    <tr>\n",
       "      <th>1</th>\n",
       "      <td>2020-01-02</td>\n",
       "      <td>CARD-2</td>\n",
       "      <td>MRC-2</td>\n",
       "      <td>2.0</td>\n",
       "      <td>-0.610164</td>\n",
       "      <td>0002</td>\n",
       "      <td>GB</td>\n",
       "    </tr>\n",
       "    <tr>\n",
       "      <th>2</th>\n",
       "      <td>2020-01-03</td>\n",
       "      <td>CARD-1</td>\n",
       "      <td>MRC-3</td>\n",
       "      <td>3.0</td>\n",
       "      <td>0.002012</td>\n",
       "      <td>0003</td>\n",
       "      <td>DE</td>\n",
       "    </tr>\n",
       "    <tr>\n",
       "      <th>3</th>\n",
       "      <td>2020-01-04</td>\n",
       "      <td>CARD-1</td>\n",
       "      <td>MRC-3</td>\n",
       "      <td>4.0</td>\n",
       "      <td>0.436884</td>\n",
       "      <td>0003</td>\n",
       "      <td>FR</td>\n",
       "    </tr>\n",
       "    <tr>\n",
       "      <th>4</th>\n",
       "      <td>2020-01-04</td>\n",
       "      <td>CARD-2</td>\n",
       "      <td>MRC-2</td>\n",
       "      <td>5.0</td>\n",
       "      <td>0.774417</td>\n",
       "      <td>0002</td>\n",
       "      <td>GB</td>\n",
       "    </tr>\n",
       "    <tr>\n",
       "      <th>5</th>\n",
       "      <td>2020-01-06</td>\n",
       "      <td>CARD-2</td>\n",
       "      <td>MRC-4</td>\n",
       "      <td>6.0</td>\n",
       "      <td>1.050315</td>\n",
       "      <td>0000</td>\n",
       "      <td>DE</td>\n",
       "    </tr>\n",
       "  </tbody>\n",
       "</table>\n",
       "</div>"
      ],
      "text/plain": [
       "        Date    Card Merchant  Amount  Standard_Amount   MCC Country\n",
       "0 2020-01-01  CARD-1    MRC-1     1.0        -1.653464  0001      DE\n",
       "1 2020-01-02  CARD-2    MRC-2     2.0        -0.610164  0002      GB\n",
       "2 2020-01-03  CARD-1    MRC-3     3.0         0.002012  0003      DE\n",
       "3 2020-01-04  CARD-1    MRC-3     4.0         0.436884  0003      FR\n",
       "4 2020-01-04  CARD-2    MRC-2     5.0         0.774417  0002      GB\n",
       "5 2020-01-06  CARD-2    MRC-4     6.0         1.050315  0000      DE"
      ]
     },
     "execution_count": 35,
     "metadata": {},
     "output_type": "execute_result"
    }
   ],
   "source": [
    "# Define NormalizerStandard\n",
    "standard_log = ft.FeatureNormalizeStandard(\n",
    "    'Standard_Amount',       # Name of the feature\n",
    "    ft.FEATURE_TYPE_FLOAT,   # Data type of the feature, in this case a Float.\n",
    "    amount,                  # The base feature we want to standardize. Here we are scaling the amount\n",
    "    'e'                      # Define the log-base, each value will now be log transformed first\n",
    ")\n",
    "\n",
    "td = ft.TensorDefinition('Features', [date, card, merchant, amount, standard_log, mcc, country])\n",
    "\n",
    "with en.EnginePandas(num_threads=1) as e:\n",
    "    df = e.df_from_csv(td, file, inference=False)\n",
    "\n",
    "df"
   ]
  },
  {
   "cell_type": "markdown",
   "id": "d3fc9ec2",
   "metadata": {},
   "source": [
    "The mean and standard dev are now calculated on the 'log' values."
   ]
  },
  {
   "cell_type": "code",
   "execution_count": 36,
   "id": "99c86748",
   "metadata": {},
   "outputs": [
    {
     "data": {
      "text/plain": [
       "(1.1006128394412176, 0.6596226878292422)"
      ]
     },
     "execution_count": 36,
     "metadata": {},
     "output_type": "execute_result"
    }
   ],
   "source": [
    "standard_log.mean,standard_log.stddev"
   ]
  },
  {
   "cell_type": "markdown",
   "id": "0e93dbfd",
   "metadata": {},
   "source": [
    "We can double check this. **Note how we add a really small value to each x to avoid having infinity values** (The log of zero is undefined)"
   ]
  },
  {
   "cell_type": "code",
   "execution_count": 37,
   "id": "6cb10090",
   "metadata": {},
   "outputs": [
    {
     "data": {
      "text/plain": [
       "(1.1006128394412176, 0.6596226878292422, 0.01)"
      ]
     },
     "execution_count": 37,
     "metadata": {},
     "output_type": "execute_result"
    }
   ],
   "source": [
    "(np.log(df['Amount']+standard_log.delta)).mean(),(np.log(df['Amount']+standard_log.delta)).std(),standard_log.delta"
   ]
  },
  {
   "cell_type": "code",
   "execution_count": 38,
   "id": "26a2c956",
   "metadata": {},
   "outputs": [
    {
     "data": {
      "text/plain": [
       "0   -1.653464\n",
       "1   -0.610164\n",
       "2    0.002012\n",
       "3    0.436884\n",
       "4    0.774417\n",
       "5    1.050315\n",
       "Name: Amount, dtype: float64"
      ]
     },
     "execution_count": 38,
     "metadata": {},
     "output_type": "execute_result"
    }
   ],
   "source": [
    "(np.log(df['Amount']+standard_log.delta)-standard_log.mean)/standard_log.stddev"
   ]
  },
  {
   "cell_type": "markdown",
   "id": "7af90e51",
   "metadata": {},
   "source": [
    "### FeatureGrouper\n",
    "Slight more intricate than the previous examples. A FeatureGrouper will calculate aggregate features for a specific group. \n",
    "\n",
    "This is very much how tradition Fraud detection works. The aggregate features provide the models with a condensed historical perspective on a specific entity such as a customer or a card or merchant or an ATM etc...\n",
    "Clearly this is what we would hope Neural Nets do **NOT** need.\n",
    "\n",
    "Still, it's might be an interesting tool for data analysis and might be useful to validate certain hypothesis."
   ]
  },
  {
   "cell_type": "code",
   "execution_count": 42,
   "id": "be484a96",
   "metadata": {},
   "outputs": [
    {
     "name": "stderr",
     "output_type": "stream",
     "text": [
      "2023-03-12 16:08:50.980 eng1n3.common.engine           INFO     Start Engine...\n",
      "2023-03-12 16:08:50.980 eng1n3.pandas.pandasengine     INFO     Pandas Version : 1.5.3\n",
      "2023-03-12 16:08:50.980 eng1n3.pandas.pandasengine     INFO     Numpy Version : 1.23.5\n",
      "2023-03-12 16:08:50.981 eng1n3.pandas.pandasengine     INFO     Building Panda for : Features from file ./data/intro_card.csv\n",
      "2023-03-12 16:08:50.983 eng1n3.pandas.dataframebuilder.featuregrouperprocessor INFO     Start creating aggregate grouper feature for <Card> using 1 process(es)\n",
      "2023-03-12 16:08:50.987 eng1n3.pandas.dataframebuilder.featuregrouperprocessor INFO     Start creating aggregate grouper features for <Card> \n",
      "2023-03-12 16:08:50.988 eng1n3.pandas.pandasengine     INFO     Reshaping DataFrame to: Features\n"
     ]
    },
    {
     "data": {
      "text/html": [
       "<div>\n",
       "<style scoped>\n",
       "    .dataframe tbody tr th:only-of-type {\n",
       "        vertical-align: middle;\n",
       "    }\n",
       "\n",
       "    .dataframe tbody tr th {\n",
       "        vertical-align: top;\n",
       "    }\n",
       "\n",
       "    .dataframe thead th {\n",
       "        text-align: right;\n",
       "    }\n",
       "</style>\n",
       "<table border=\"1\" class=\"dataframe\">\n",
       "  <thead>\n",
       "    <tr style=\"text-align: right;\">\n",
       "      <th></th>\n",
       "      <th>Date</th>\n",
       "      <th>Card</th>\n",
       "      <th>Amount</th>\n",
       "      <th>Card5DAvg</th>\n",
       "      <th>Card5Sum</th>\n",
       "      <th>Card5DCount</th>\n",
       "      <th>Card5DMax</th>\n",
       "      <th>Card5DMin</th>\n",
       "      <th>Card5DStddev</th>\n",
       "    </tr>\n",
       "  </thead>\n",
       "  <tbody>\n",
       "    <tr>\n",
       "      <th>0</th>\n",
       "      <td>2020-01-01</td>\n",
       "      <td>CARD-1</td>\n",
       "      <td>1.0</td>\n",
       "      <td>1.000000</td>\n",
       "      <td>1.0</td>\n",
       "      <td>1.0</td>\n",
       "      <td>1.0</td>\n",
       "      <td>1.0</td>\n",
       "      <td>0.000000</td>\n",
       "    </tr>\n",
       "    <tr>\n",
       "      <th>1</th>\n",
       "      <td>2020-01-02</td>\n",
       "      <td>CARD-2</td>\n",
       "      <td>2.0</td>\n",
       "      <td>2.000000</td>\n",
       "      <td>2.0</td>\n",
       "      <td>1.0</td>\n",
       "      <td>2.0</td>\n",
       "      <td>2.0</td>\n",
       "      <td>0.000000</td>\n",
       "    </tr>\n",
       "    <tr>\n",
       "      <th>2</th>\n",
       "      <td>2020-01-03</td>\n",
       "      <td>CARD-1</td>\n",
       "      <td>3.0</td>\n",
       "      <td>2.000000</td>\n",
       "      <td>4.0</td>\n",
       "      <td>2.0</td>\n",
       "      <td>3.0</td>\n",
       "      <td>1.0</td>\n",
       "      <td>1.414214</td>\n",
       "    </tr>\n",
       "    <tr>\n",
       "      <th>3</th>\n",
       "      <td>2020-01-04</td>\n",
       "      <td>CARD-1</td>\n",
       "      <td>4.0</td>\n",
       "      <td>2.666667</td>\n",
       "      <td>8.0</td>\n",
       "      <td>3.0</td>\n",
       "      <td>4.0</td>\n",
       "      <td>1.0</td>\n",
       "      <td>1.527525</td>\n",
       "    </tr>\n",
       "    <tr>\n",
       "      <th>4</th>\n",
       "      <td>2020-01-04</td>\n",
       "      <td>CARD-2</td>\n",
       "      <td>5.0</td>\n",
       "      <td>3.500000</td>\n",
       "      <td>7.0</td>\n",
       "      <td>2.0</td>\n",
       "      <td>5.0</td>\n",
       "      <td>2.0</td>\n",
       "      <td>2.121320</td>\n",
       "    </tr>\n",
       "    <tr>\n",
       "      <th>5</th>\n",
       "      <td>2020-01-06</td>\n",
       "      <td>CARD-2</td>\n",
       "      <td>6.0</td>\n",
       "      <td>4.333333</td>\n",
       "      <td>13.0</td>\n",
       "      <td>3.0</td>\n",
       "      <td>6.0</td>\n",
       "      <td>2.0</td>\n",
       "      <td>2.081666</td>\n",
       "    </tr>\n",
       "  </tbody>\n",
       "</table>\n",
       "</div>"
      ],
      "text/plain": [
       "        Date    Card  Amount  Card5DAvg  Card5Sum  Card5DCount  Card5DMax  \\\n",
       "0 2020-01-01  CARD-1     1.0   1.000000       1.0          1.0        1.0   \n",
       "1 2020-01-02  CARD-2     2.0   2.000000       2.0          1.0        2.0   \n",
       "2 2020-01-03  CARD-1     3.0   2.000000       4.0          2.0        3.0   \n",
       "3 2020-01-04  CARD-1     4.0   2.666667       8.0          3.0        4.0   \n",
       "4 2020-01-04  CARD-2     5.0   3.500000       7.0          2.0        5.0   \n",
       "5 2020-01-06  CARD-2     6.0   4.333333      13.0          3.0        6.0   \n",
       "\n",
       "   Card5DMin  Card5DStddev  \n",
       "0        1.0      0.000000  \n",
       "1        2.0      0.000000  \n",
       "2        1.0      1.414214  \n",
       "3        1.0      1.527525  \n",
       "4        2.0      2.121320  \n",
       "5        2.0      2.081666  "
      ]
     },
     "execution_count": 42,
     "metadata": {},
     "output_type": "execute_result"
    }
   ],
   "source": [
    "card = ft.FeatureSource('Card', ft.FEATURE_TYPE_STRING)\n",
    "amount = ft.FeatureSource('Amount', ft.FEATURE_TYPE_FLOAT)\n",
    "date = ft.FeatureSource('Date', ft.FEATURE_TYPE_DATE, format_code='%Y%m%d')\n",
    "\n",
    "# Define Grouper that calculates the 5 day average per each customer.\n",
    "card5davg = ft.FeatureGrouper(\n",
    "    'Card5DAvg',            # Name of the feature\n",
    "    ft.FEATURE_TYPE_FLOAT,   # Data type of the feature, in this case a Float.\n",
    "    amount,                  # The base feature, this is the feature we want to 'average'\n",
    "    card,                    # The feature to group on.\n",
    "    None,                    # See later\n",
    "    ft.TIME_PERIOD_DAY,      # Aggregate per-day. Per-week and per-month are also possible\n",
    "    5,                       # Take 5 periods (i.e days) into consideration\n",
    "    ft.AGGREGATOR_AVG        # Average out.\n",
    ")\n",
    "\n",
    "card5dsum = ft.FeatureGrouper(\n",
    "    'Card5Sum', ft.FEATURE_TYPE_FLOAT, amount, card, None, ft.TIME_PERIOD_DAY, 5, ft.AGGREGATOR_SUM\n",
    ")\n",
    "card5dcount = ft.FeatureGrouper(\n",
    "    'Card5DCount', ft.FEATURE_TYPE_FLOAT, amount, card, None, ft.TIME_PERIOD_DAY, 5, ft.AGGREGATOR_COUNT\n",
    ")\n",
    "card5dmax = ft.FeatureGrouper(\n",
    "    'Card5DMax', ft.FEATURE_TYPE_FLOAT, amount, card, None, ft.TIME_PERIOD_DAY, 5, ft.AGGREGATOR_MAX\n",
    ")\n",
    "card5dmin = ft.FeatureGrouper(\n",
    "    'Card5DMin', ft.FEATURE_TYPE_FLOAT, amount, card, None, ft.TIME_PERIOD_DAY, 5, ft.AGGREGATOR_MIN\n",
    ")\n",
    "card5stddev = ft.FeatureGrouper(\n",
    "    'Card5DStddev', ft.FEATURE_TYPE_FLOAT, amount, card, None, ft.TIME_PERIOD_DAY, 5, ft.AGGREGATOR_STDDEV\n",
    ")\n",
    "\n",
    "td = ft.TensorDefinition('Features', [date, card, amount, card5davg, card5dsum, card5dcount, card5dmax, \n",
    "                                      card5dmin, card5stddev])\n",
    "\n",
    "# Note we need to feed a time_feature!\n",
    "with en.EnginePandas(num_threads=1) as e:\n",
    "    df = e.df_from_csv(td, file, inference=False, time_feature=date)\n",
    "\n",
    "df"
   ]
  },
  {
   "cell_type": "markdown",
   "id": "a40cd2fe",
   "metadata": {},
   "source": [
    "We can also include a filter. For instance only count the records for country 'DE'. We define a `FeatureFilter` for that, a filter is a bit like an expression with some extra restrictions"
   ]
  },
  {
   "cell_type": "code",
   "execution_count": 46,
   "id": "eafbfe62",
   "metadata": {},
   "outputs": [
    {
     "name": "stderr",
     "output_type": "stream",
     "text": [
      "2023-03-12 16:10:48.310 eng1n3.common.engine           INFO     Start Engine...\n",
      "2023-03-12 16:10:48.311 eng1n3.pandas.pandasengine     INFO     Pandas Version : 1.5.3\n",
      "2023-03-12 16:10:48.312 eng1n3.pandas.pandasengine     INFO     Numpy Version : 1.23.5\n",
      "2023-03-12 16:10:48.312 eng1n3.pandas.pandasengine     INFO     Building Panda for : Features from file ./data/intro_card.csv\n",
      "2023-03-12 16:10:48.319 eng1n3.pandas.dataframebuilder.featuregrouperprocessor INFO     Start creating aggregate grouper feature for <Card> using 1 process(es)\n",
      "2023-03-12 16:10:48.322 eng1n3.pandas.dataframebuilder.featuregrouperprocessor INFO     Start creating aggregate grouper features for <Card> \n",
      "2023-03-12 16:10:48.323 eng1n3.pandas.pandasengine     INFO     Reshaping DataFrame to: Features\n"
     ]
    },
    {
     "data": {
      "text/html": [
       "<div>\n",
       "<style scoped>\n",
       "    .dataframe tbody tr th:only-of-type {\n",
       "        vertical-align: middle;\n",
       "    }\n",
       "\n",
       "    .dataframe tbody tr th {\n",
       "        vertical-align: top;\n",
       "    }\n",
       "\n",
       "    .dataframe thead th {\n",
       "        text-align: right;\n",
       "    }\n",
       "</style>\n",
       "<table border=\"1\" class=\"dataframe\">\n",
       "  <thead>\n",
       "    <tr style=\"text-align: right;\">\n",
       "      <th></th>\n",
       "      <th>Date</th>\n",
       "      <th>Card</th>\n",
       "      <th>Amount</th>\n",
       "      <th>Country</th>\n",
       "      <th>GermanyFilter</th>\n",
       "      <th>Card5DDECount</th>\n",
       "    </tr>\n",
       "  </thead>\n",
       "  <tbody>\n",
       "    <tr>\n",
       "      <th>0</th>\n",
       "      <td>2020-01-01</td>\n",
       "      <td>CARD-1</td>\n",
       "      <td>1.0</td>\n",
       "      <td>DE</td>\n",
       "      <td>1</td>\n",
       "      <td>1.0</td>\n",
       "    </tr>\n",
       "    <tr>\n",
       "      <th>1</th>\n",
       "      <td>2020-01-02</td>\n",
       "      <td>CARD-2</td>\n",
       "      <td>2.0</td>\n",
       "      <td>GB</td>\n",
       "      <td>0</td>\n",
       "      <td>0.0</td>\n",
       "    </tr>\n",
       "    <tr>\n",
       "      <th>2</th>\n",
       "      <td>2020-01-03</td>\n",
       "      <td>CARD-1</td>\n",
       "      <td>3.0</td>\n",
       "      <td>DE</td>\n",
       "      <td>1</td>\n",
       "      <td>2.0</td>\n",
       "    </tr>\n",
       "    <tr>\n",
       "      <th>3</th>\n",
       "      <td>2020-01-04</td>\n",
       "      <td>CARD-1</td>\n",
       "      <td>4.0</td>\n",
       "      <td>FR</td>\n",
       "      <td>0</td>\n",
       "      <td>2.0</td>\n",
       "    </tr>\n",
       "    <tr>\n",
       "      <th>4</th>\n",
       "      <td>2020-01-04</td>\n",
       "      <td>CARD-2</td>\n",
       "      <td>5.0</td>\n",
       "      <td>GB</td>\n",
       "      <td>0</td>\n",
       "      <td>0.0</td>\n",
       "    </tr>\n",
       "    <tr>\n",
       "      <th>5</th>\n",
       "      <td>2020-01-06</td>\n",
       "      <td>CARD-2</td>\n",
       "      <td>6.0</td>\n",
       "      <td>DE</td>\n",
       "      <td>1</td>\n",
       "      <td>1.0</td>\n",
       "    </tr>\n",
       "  </tbody>\n",
       "</table>\n",
       "</div>"
      ],
      "text/plain": [
       "        Date    Card  Amount Country  GermanyFilter  Card5DDECount\n",
       "0 2020-01-01  CARD-1     1.0      DE              1            1.0\n",
       "1 2020-01-02  CARD-2     2.0      GB              0            0.0\n",
       "2 2020-01-03  CARD-1     3.0      DE              1            2.0\n",
       "3 2020-01-04  CARD-1     4.0      FR              0            2.0\n",
       "4 2020-01-04  CARD-2     5.0      GB              0            0.0\n",
       "5 2020-01-06  CARD-2     6.0      DE              1            1.0"
      ]
     },
     "execution_count": 46,
     "metadata": {},
     "output_type": "execute_result"
    }
   ],
   "source": [
    "# Set up a function we will use to filter\n",
    "def germany(country: str) -> bool:\n",
    "    if country == 'DE':\n",
    "        return True\n",
    "    else:\n",
    "        return False\n",
    "\n",
    "card = ft.FeatureSource('Card', ft.FEATURE_TYPE_STRING)\n",
    "amount = ft.FeatureSource('Amount', ft.FEATURE_TYPE_FLOAT)\n",
    "date = ft.FeatureSource('Date', ft.FEATURE_TYPE_DATE, format_code='%Y%m%d')\n",
    "country = ft.FeatureSource('Country', ft.FEATURE_TYPE_CATEGORICAL)\n",
    "# Define a filter feature\n",
    "g_filter = ft.FeatureFilter('GermanyFilter', ft.FEATURE_TYPE_BOOL, germany, [country])\n",
    "\n",
    "# Define Grouper that calculates the 5 day average per each customer. But only for German payments.\n",
    "card5dgermanycount = ft.FeatureGrouper(\n",
    "    'Card5DDECount',         \n",
    "    ft.FEATURE_TYPE_FLOAT,   \n",
    "    amount,                  \n",
    "    card,                    \n",
    "    g_filter,                # Provide a filter.\n",
    "    ft.TIME_PERIOD_DAY,      \n",
    "    5,                       \n",
    "    ft.AGGREGATOR_COUNT\n",
    ")\n",
    "\n",
    "td = ft.TensorDefinition('Features', [date, card, amount, country, g_filter, card5dgermanycount])\n",
    "\n",
    "with en.EnginePandas(num_threads=1) as e:\n",
    "    df = e.df_from_csv(td, file, inference=False, time_feature=date)\n",
    "\n",
    "df"
   ]
  },
  {
   "cell_type": "code",
   "execution_count": 47,
   "id": "8df75184",
   "metadata": {},
   "outputs": [
    {
     "data": {
      "text/plain": [
       "Date             datetime64[ns]\n",
       "Card                     object\n",
       "Amount                  float64\n",
       "Country                category\n",
       "GermanyFilter              int8\n",
       "Card5DDECount           float64\n",
       "dtype: object"
      ]
     },
     "execution_count": 47,
     "metadata": {},
     "output_type": "execute_result"
    }
   ],
   "source": [
    "df.dtypes"
   ]
  }
 ],
 "metadata": {
  "kernelspec": {
   "display_name": "Python 3 (ipykernel)",
   "language": "python",
   "name": "python3"
  },
  "language_info": {
   "codemirror_mode": {
    "name": "ipython",
    "version": 3
   },
   "file_extension": ".py",
   "mimetype": "text/x-python",
   "name": "python",
   "nbconvert_exporter": "python",
   "pygments_lexer": "ipython3",
   "version": "3.10.6"
  }
 },
 "nbformat": 4,
 "nbformat_minor": 5
}
