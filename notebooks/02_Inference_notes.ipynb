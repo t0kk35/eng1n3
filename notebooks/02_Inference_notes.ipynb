{
 "cells": [
  {
   "cell_type": "markdown",
   "id": "00de7cb5",
   "metadata": {},
   "source": [
    "# Inference Notes\n",
    "-----"
   ]
  },
  {
   "cell_type": "markdown",
   "id": "e767c1bb",
   "metadata": {},
   "source": [
    "## What is with this inference parameter?\n",
    "\n",
    "In the previous notebook, we started creating features using the `PandasEngine`. It had a parameter **inference** which can take a value *True* or *False*. Let's go into a couple of examples and see how to use that parameter.\n",
    "\n",
    "Broadly speaking, a machine learning model can be used in 2 modes.\n",
    "- **Training**, where the model is trained on a specific data set. This is a learning mode. \n",
    "- **Inference**, is a more operational mode. Where the model is acutally used to generate output. \n"
   ]
  },
  {
   "cell_type": "markdown",
   "id": "cb8e312e",
   "metadata": {},
   "source": [
    "## Requirements\n",
    "Before running the experiment, make sure to import the `numpy`, `pandas` and `numba` packages in your virtual environment\n",
    "```\n",
    "> pip install numpy\n",
    "> pip install pandas\n",
    "> pip install numba\n",
    "```\n",
    "And that the notebook can find the `f3atur3s` and `eng1n3` packages."
   ]
  },
  {
   "cell_type": "markdown",
   "id": "1687716d",
   "metadata": {},
   "source": [
    "## Preparation\n",
    "\n",
    "Before creating features, we will have to import a couple of packages"
   ]
  },
  {
   "cell_type": "code",
   "execution_count": 1,
   "id": "5be6eeec",
   "metadata": {},
   "outputs": [],
   "source": [
    "import numpy as np\n",
    "import pandas as pd\n",
    "import math\n",
    "import f3atur3s as ft\n",
    "import eng1n3.pandas as en"
   ]
  },
  {
   "cell_type": "markdown",
   "id": "da5375f4",
   "metadata": {},
   "source": [
    "And we define the **file** we will read from."
   ]
  },
  {
   "cell_type": "code",
   "execution_count": 2,
   "id": "d3968a7e",
   "metadata": {},
   "outputs": [],
   "source": [
    "file = './data/intro_card.csv'"
   ]
  },
  {
   "cell_type": "markdown",
   "id": "f65dc180",
   "metadata": {},
   "source": [
    "### Training Mode\n",
    "\n",
    "Certain features have inference attributes, this is data collected during the training. For instance `FeatureOneHot` collects the names, the unique values of the base feature, during training.\n",
    "\n",
    "Note that not all feature have inference elements. For instance a FeatureSource does not have any inference elements, it does not need to know anything about the underlying data to construct the feature."
   ]
  },
  {
   "cell_type": "code",
   "execution_count": 3,
   "id": "cf1a8ee1",
   "metadata": {},
   "outputs": [],
   "source": [
    "card = ft.FeatureSource('Card', ft.FEATURE_TYPE_STRING)\n",
    "merchant = ft.FeatureSource('Merchant', ft.FEATURE_TYPE_STRING)\n",
    "amount = ft.FeatureSource('Amount', ft.FEATURE_TYPE_FLOAT)\n",
    "date = ft.FeatureSource('Date', ft.FEATURE_TYPE_DATE, format_code='%Y%m%d')\n",
    "mcc = ft.FeatureSource('MCC', ft.FEATURE_TYPE_CATEGORICAL, default='0000')\n",
    "country = ft.FeatureSource('Country', ft.FEATURE_TYPE_CATEGORICAL)\n",
    "\n",
    "# The one-hot encoding of Country\n",
    "country_oh = ft.FeatureOneHot('Country_OH', ft.FEATURE_TYPE_INT_8, country)\n",
    "\n",
    "td = ft.TensorDefinition('Features', [date, card, merchant, amount, country_oh])"
   ]
  },
  {
   "cell_type": "markdown",
   "id": "a54cc460",
   "metadata": {},
   "source": [
    "After creating the inference attributes are None. They are unknown, the feature has not seen any data yet"
   ]
  },
  {
   "cell_type": "code",
   "execution_count": 4,
   "id": "8e2e8216",
   "metadata": {},
   "outputs": [
    {
     "data": {
      "text/plain": [
       "True"
      ]
     },
     "execution_count": 4,
     "metadata": {},
     "output_type": "execute_result"
    }
   ],
   "source": [
    "country_oh.expand_names == None"
   ]
  },
  {
   "cell_type": "markdown",
   "id": "a775e100",
   "metadata": {},
   "source": [
    "This is reflected in the `inference_ready` property. Both the Feature and the TensorDefinition know they have not seen any data."
   ]
  },
  {
   "cell_type": "code",
   "execution_count": 5,
   "id": "99c0404e",
   "metadata": {},
   "outputs": [
    {
     "data": {
      "text/plain": [
       "(False, False)"
      ]
     },
     "execution_count": 5,
     "metadata": {},
     "output_type": "execute_result"
    }
   ],
   "source": [
    "country_oh.inference_ready, td.inference_ready"
   ]
  },
  {
   "cell_type": "markdown",
   "id": "509a9447",
   "metadata": {},
   "source": [
    "Let's read our file again and see what happens. The `inference` flag is False, we are telling the engine that we are in **training mode**."
   ]
  },
  {
   "cell_type": "code",
   "execution_count": 6,
   "id": "a3a370c4",
   "metadata": {},
   "outputs": [
    {
     "name": "stderr",
     "output_type": "stream",
     "text": [
      "2023-03-17 14:29:09.115 eng1n3.common.engine           INFO     Start Engine...\n",
      "2023-03-17 14:29:09.117 eng1n3.pandas.pandasengine     INFO     Pandas Version : 1.5.3\n",
      "2023-03-17 14:29:09.117 eng1n3.pandas.pandasengine     INFO     Numpy Version : 1.23.5\n",
      "2023-03-17 14:29:09.117 eng1n3.pandas.pandasengine     INFO     Building Panda for : Features from file ./data/intro_card.csv\n",
      "2023-03-17 14:29:09.158 eng1n3.pandas.pandasengine     INFO     Reshaping DataFrame to: Features\n"
     ]
    },
    {
     "data": {
      "text/html": [
       "<div>\n",
       "<style scoped>\n",
       "    .dataframe tbody tr th:only-of-type {\n",
       "        vertical-align: middle;\n",
       "    }\n",
       "\n",
       "    .dataframe tbody tr th {\n",
       "        vertical-align: top;\n",
       "    }\n",
       "\n",
       "    .dataframe thead th {\n",
       "        text-align: right;\n",
       "    }\n",
       "</style>\n",
       "<table border=\"1\" class=\"dataframe\">\n",
       "  <thead>\n",
       "    <tr style=\"text-align: right;\">\n",
       "      <th></th>\n",
       "      <th>Date</th>\n",
       "      <th>Card</th>\n",
       "      <th>Merchant</th>\n",
       "      <th>Amount</th>\n",
       "      <th>Country__DE</th>\n",
       "      <th>Country__FR</th>\n",
       "      <th>Country__GB</th>\n",
       "    </tr>\n",
       "  </thead>\n",
       "  <tbody>\n",
       "    <tr>\n",
       "      <th>0</th>\n",
       "      <td>2020-01-01</td>\n",
       "      <td>CARD-1</td>\n",
       "      <td>MRC-1</td>\n",
       "      <td>1.0</td>\n",
       "      <td>1</td>\n",
       "      <td>0</td>\n",
       "      <td>0</td>\n",
       "    </tr>\n",
       "    <tr>\n",
       "      <th>1</th>\n",
       "      <td>2020-01-02</td>\n",
       "      <td>CARD-2</td>\n",
       "      <td>MRC-2</td>\n",
       "      <td>2.0</td>\n",
       "      <td>0</td>\n",
       "      <td>0</td>\n",
       "      <td>1</td>\n",
       "    </tr>\n",
       "    <tr>\n",
       "      <th>2</th>\n",
       "      <td>2020-01-03</td>\n",
       "      <td>CARD-1</td>\n",
       "      <td>MRC-3</td>\n",
       "      <td>3.0</td>\n",
       "      <td>1</td>\n",
       "      <td>0</td>\n",
       "      <td>0</td>\n",
       "    </tr>\n",
       "    <tr>\n",
       "      <th>3</th>\n",
       "      <td>2020-01-04</td>\n",
       "      <td>CARD-1</td>\n",
       "      <td>MRC-3</td>\n",
       "      <td>4.0</td>\n",
       "      <td>0</td>\n",
       "      <td>1</td>\n",
       "      <td>0</td>\n",
       "    </tr>\n",
       "    <tr>\n",
       "      <th>4</th>\n",
       "      <td>2020-01-04</td>\n",
       "      <td>CARD-2</td>\n",
       "      <td>MRC-2</td>\n",
       "      <td>5.0</td>\n",
       "      <td>0</td>\n",
       "      <td>0</td>\n",
       "      <td>1</td>\n",
       "    </tr>\n",
       "    <tr>\n",
       "      <th>5</th>\n",
       "      <td>2020-01-06</td>\n",
       "      <td>CARD-2</td>\n",
       "      <td>MRC-4</td>\n",
       "      <td>6.0</td>\n",
       "      <td>1</td>\n",
       "      <td>0</td>\n",
       "      <td>0</td>\n",
       "    </tr>\n",
       "  </tbody>\n",
       "</table>\n",
       "</div>"
      ],
      "text/plain": [
       "        Date    Card Merchant  Amount  Country__DE  Country__FR  Country__GB\n",
       "0 2020-01-01  CARD-1    MRC-1     1.0            1            0            0\n",
       "1 2020-01-02  CARD-2    MRC-2     2.0            0            0            1\n",
       "2 2020-01-03  CARD-1    MRC-3     3.0            1            0            0\n",
       "3 2020-01-04  CARD-1    MRC-3     4.0            0            1            0\n",
       "4 2020-01-04  CARD-2    MRC-2     5.0            0            0            1\n",
       "5 2020-01-06  CARD-2    MRC-4     6.0            1            0            0"
      ]
     },
     "execution_count": 6,
     "metadata": {},
     "output_type": "execute_result"
    }
   ],
   "source": [
    "with en.EnginePandas(num_threads=1) as e:\n",
    "    df = e.df_from_csv(td, file, inference=False)\n",
    "    \n",
    "df"
   ]
  },
  {
   "cell_type": "markdown",
   "id": "d2facab3",
   "metadata": {},
   "source": [
    "When we check the expand_names attribute and the inference_ready flags, we see things have changed. The `FeatureOneHot` now knows it has seen 3 unique values for the *Country* feature and that it will have to build out 3 columns."
   ]
  },
  {
   "cell_type": "code",
   "execution_count": 7,
   "id": "e379adf7",
   "metadata": {},
   "outputs": [
    {
     "data": {
      "text/plain": [
       "['Country__DE', 'Country__FR', 'Country__GB']"
      ]
     },
     "execution_count": 7,
     "metadata": {},
     "output_type": "execute_result"
    }
   ],
   "source": [
    "country_oh.expand_names"
   ]
  },
  {
   "cell_type": "code",
   "execution_count": 8,
   "id": "7612ccd9",
   "metadata": {},
   "outputs": [
    {
     "data": {
      "text/plain": [
       "(True, True)"
      ]
     },
     "execution_count": 8,
     "metadata": {},
     "output_type": "execute_result"
    }
   ],
   "source": [
    "country_oh.inference_ready, td.inference_ready"
   ]
  },
  {
   "cell_type": "markdown",
   "id": "fd640e68",
   "metadata": {},
   "source": [
    "Let's create a copy of the original file containing only the 2 first lines"
   ]
  },
  {
   "cell_type": "code",
   "execution_count": 9,
   "id": "8143f693",
   "metadata": {},
   "outputs": [
    {
     "name": "stdout",
     "output_type": "stream",
     "text": [
      "Date,Amount,Card,Merchant,MCC,Country,Fraud\r\n",
      "20200101,1.0,CARD-1,MRC-1,0001,DE,0\r\n"
     ]
    }
   ],
   "source": [
    "first_lines = './data/2lines_intro_card.csv'\n",
    "!head -2 $file > $first_lines\n",
    "!cat $first_lines"
   ]
  },
  {
   "cell_type": "markdown",
   "id": "22f450e9",
   "metadata": {},
   "source": [
    "Now imagine we want to use this second file as test file or in some sort of production environment. This is what would happen if we use a **new** TensorDefinition and **new** feature and do **not** run in inference mode."
   ]
  },
  {
   "cell_type": "code",
   "execution_count": 10,
   "id": "ed4e1e4a",
   "metadata": {},
   "outputs": [
    {
     "name": "stderr",
     "output_type": "stream",
     "text": [
      "2023-03-17 14:29:14.894 eng1n3.common.engine           INFO     Start Engine...\n",
      "2023-03-17 14:29:14.895 eng1n3.pandas.pandasengine     INFO     Pandas Version : 1.5.3\n",
      "2023-03-17 14:29:14.895 eng1n3.pandas.pandasengine     INFO     Numpy Version : 1.23.5\n",
      "2023-03-17 14:29:14.896 eng1n3.pandas.pandasengine     INFO     Building Panda for : Features from file ./data/2lines_intro_card.csv\n",
      "2023-03-17 14:29:14.903 eng1n3.pandas.pandasengine     INFO     Reshaping DataFrame to: Features\n"
     ]
    },
    {
     "data": {
      "text/html": [
       "<div>\n",
       "<style scoped>\n",
       "    .dataframe tbody tr th:only-of-type {\n",
       "        vertical-align: middle;\n",
       "    }\n",
       "\n",
       "    .dataframe tbody tr th {\n",
       "        vertical-align: top;\n",
       "    }\n",
       "\n",
       "    .dataframe thead th {\n",
       "        text-align: right;\n",
       "    }\n",
       "</style>\n",
       "<table border=\"1\" class=\"dataframe\">\n",
       "  <thead>\n",
       "    <tr style=\"text-align: right;\">\n",
       "      <th></th>\n",
       "      <th>Date</th>\n",
       "      <th>Card</th>\n",
       "      <th>Merchant</th>\n",
       "      <th>Amount</th>\n",
       "      <th>Country__DE</th>\n",
       "    </tr>\n",
       "  </thead>\n",
       "  <tbody>\n",
       "    <tr>\n",
       "      <th>0</th>\n",
       "      <td>2020-01-01</td>\n",
       "      <td>CARD-1</td>\n",
       "      <td>MRC-1</td>\n",
       "      <td>1.0</td>\n",
       "      <td>1</td>\n",
       "    </tr>\n",
       "  </tbody>\n",
       "</table>\n",
       "</div>"
      ],
      "text/plain": [
       "        Date    Card Merchant  Amount  Country__DE\n",
       "0 2020-01-01  CARD-1    MRC-1     1.0            1"
      ]
     },
     "execution_count": 10,
     "metadata": {},
     "output_type": "execute_result"
    }
   ],
   "source": [
    "country_oh_new = ft.FeatureOneHot('Country_OH', ft.FEATURE_TYPE_INT_8, country)\n",
    "td_new = ft.TensorDefinition('Features', [date, card, merchant, amount, country_oh_new])\n",
    "with en.EnginePandas(num_threads=1) as e:\n",
    "    df = e.df_from_csv(td_new, first_lines, inference=False)\n",
    "    \n",
    "df"
   ]
  },
  {
   "cell_type": "markdown",
   "id": "16d2327d",
   "metadata": {},
   "source": [
    "This is somewhat problematic. We would have trained a model that has seen 3 'Country' features, and in this file we only have one. That is because the file only contained one unique value for the 'Country' feature.\n",
    "\n",
    "This is bound to create problems, you can not just give a model a file with one layout during training and then another one during test or in production."
   ]
  },
  {
   "cell_type": "markdown",
   "id": "72781e9d",
   "metadata": {},
   "source": [
    "### Inference Mode\n",
    "This is why we have inferene model. If we read the second file again, but this time with the original `TensorDefinition` and with the `inference` flag set to *'True'*, we get a different result. We are now back to having 3 'Country' features.\n",
    "\n",
    "The FeatureOneHot remembered it saw 3 values at training (it's inference attributes) and it built them for us, even though they were not in the data."
   ]
  },
  {
   "cell_type": "code",
   "execution_count": 11,
   "id": "362f19ef",
   "metadata": {},
   "outputs": [
    {
     "name": "stderr",
     "output_type": "stream",
     "text": [
      "2023-03-17 14:29:17.547 eng1n3.common.engine           INFO     Start Engine...\n",
      "2023-03-17 14:29:17.548 eng1n3.pandas.pandasengine     INFO     Pandas Version : 1.5.3\n",
      "2023-03-17 14:29:17.548 eng1n3.pandas.pandasengine     INFO     Numpy Version : 1.23.5\n",
      "2023-03-17 14:29:17.549 eng1n3.pandas.pandasengine     INFO     Building Panda for : Features from file ./data/2lines_intro_card.csv\n",
      "2023-03-17 14:29:17.554 eng1n3.pandas.pandasengine     INFO     Reshaping DataFrame to: Features\n"
     ]
    },
    {
     "data": {
      "text/html": [
       "<div>\n",
       "<style scoped>\n",
       "    .dataframe tbody tr th:only-of-type {\n",
       "        vertical-align: middle;\n",
       "    }\n",
       "\n",
       "    .dataframe tbody tr th {\n",
       "        vertical-align: top;\n",
       "    }\n",
       "\n",
       "    .dataframe thead th {\n",
       "        text-align: right;\n",
       "    }\n",
       "</style>\n",
       "<table border=\"1\" class=\"dataframe\">\n",
       "  <thead>\n",
       "    <tr style=\"text-align: right;\">\n",
       "      <th></th>\n",
       "      <th>Date</th>\n",
       "      <th>Card</th>\n",
       "      <th>Merchant</th>\n",
       "      <th>Amount</th>\n",
       "      <th>Country__DE</th>\n",
       "      <th>Country__FR</th>\n",
       "      <th>Country__GB</th>\n",
       "    </tr>\n",
       "  </thead>\n",
       "  <tbody>\n",
       "    <tr>\n",
       "      <th>0</th>\n",
       "      <td>2020-01-01</td>\n",
       "      <td>CARD-1</td>\n",
       "      <td>MRC-1</td>\n",
       "      <td>1.0</td>\n",
       "      <td>1</td>\n",
       "      <td>0</td>\n",
       "      <td>0</td>\n",
       "    </tr>\n",
       "  </tbody>\n",
       "</table>\n",
       "</div>"
      ],
      "text/plain": [
       "        Date    Card Merchant  Amount  Country__DE  Country__FR  Country__GB\n",
       "0 2020-01-01  CARD-1    MRC-1     1.0            1            0            0"
      ]
     },
     "execution_count": 11,
     "metadata": {},
     "output_type": "execute_result"
    }
   ],
   "source": [
    "with en.EnginePandas(num_threads=1) as e:\n",
    "    df = e.df_from_csv(td, first_lines, inference=True)\n",
    "    \n",
    "df"
   ]
  },
  {
   "cell_type": "markdown",
   "id": "61dcabc8",
   "metadata": {},
   "source": [
    "When we build test or production files, we should always build then with the `inference` True flag set, that will make sure that test/production and training files are optimally consistent wrt the applies transformations. Following features have inference attributes;\n",
    "- FeatureOneHot\n",
    "- FeatureIndex\n",
    "- FeatureBin\n",
    "- FeatureNormalizeScale\n",
    "- FeatureNormalizeStandard\n",
    "\n",
    "In order to keep the inference attributes over time, it is possible to save an entire TensorDefinition. That will create a directory where meta data on the TensorDefinition is kept as well as meta data on each feature embedded in it. This is how we **save** a TensorDefinition"
   ]
  },
  {
   "cell_type": "markdown",
   "id": "7d3c58f4",
   "metadata": {},
   "source": [
    "### Saving and Loading"
   ]
  },
  {
   "cell_type": "code",
   "execution_count": 12,
   "id": "659fa79c",
   "metadata": {},
   "outputs": [],
   "source": [
    "save_location = './data/oh_save'\n",
    "ft.TensorDefinitionSaver.save(td, save_location)"
   ]
  },
  {
   "cell_type": "markdown",
   "id": "ac56c335",
   "metadata": {},
   "source": [
    "This create a directory structure ub the save location. There is a JSON file describing the TensorDefinition and a directory named 'features' where all the features of the TensorDefinition are stored."
   ]
  },
  {
   "cell_type": "code",
   "execution_count": 13,
   "id": "815f3c62",
   "metadata": {},
   "outputs": [
    {
     "name": "stdout",
     "output_type": "stream",
     "text": [
      "total 8\r\n",
      "drwxrwxr-x 2 toms toms 4096 Mär 17 14:29 features\r\n",
      "-rw-rw-r-- 1 toms toms  157 Mär 17 14:29 tensor.json\r\n"
     ]
    }
   ],
   "source": [
    "!ls -l $save_location"
   ]
  },
  {
   "cell_type": "markdown",
   "id": "7b9b1ba3",
   "metadata": {},
   "source": [
    "The specific meta data on the feature 'Country_OH' is saved in a JSON file. We can see that it has stored the names it is expecting in the data-frame. (The 'expand_names' key)"
   ]
  },
  {
   "cell_type": "code",
   "execution_count": 14,
   "id": "136e2a85",
   "metadata": {},
   "outputs": [
    {
     "name": "stdout",
     "output_type": "stream",
     "text": [
      "{\r\n",
      "    \"name\": \"Country_OH\",\r\n",
      "    \"type\": {\r\n",
      "        \"key\": 8,\r\n",
      "        \"name\": \"INT_8\",\r\n",
      "        \"root_type\": {\r\n",
      "            \"key\": 1,\r\n",
      "            \"name\": \"INTEGER\"\r\n",
      "        },\r\n",
      "        \"precision\": 8\r\n",
      "    },\r\n",
      "    \"embedded_features\": [\r\n",
      "        \"Country\"\r\n",
      "    ],\r\n",
      "    \"base_feature\": \"Country\",\r\n",
      "    \"expand_names\": [\r\n",
      "        \"Country__DE\",\r\n",
      "        \"Country__FR\",\r\n",
      "        \"Country__GB\"\r\n",
      "    ],\r\n",
      "    \"class\": \"FeatureOneHot\"\r\n",
      "}"
     ]
    }
   ],
   "source": [
    "country_oh_json = save_location+'/features/Country_OH.json'\n",
    "!cat $country_oh_json"
   ]
  },
  {
   "cell_type": "markdown",
   "id": "82e8513a",
   "metadata": {},
   "source": [
    "We can reload the file into a **new** TensorDefinition. The name is the same as the original TensorDefinition and the inference_flag is set to True"
   ]
  },
  {
   "cell_type": "code",
   "execution_count": 15,
   "id": "63c09a91",
   "metadata": {},
   "outputs": [
    {
     "data": {
      "text/plain": [
       "('Features', True)"
      ]
     },
     "execution_count": 15,
     "metadata": {},
     "output_type": "execute_result"
    }
   ],
   "source": [
    "td_reload = ft.TensorDefinitionLoader.load(save_location)\n",
    "(td_reload.name, td_reload.inference_ready)"
   ]
  },
  {
   "cell_type": "markdown",
   "id": "d84348bf",
   "metadata": {},
   "source": [
    "The new `FeatureOneHot` remembers the inference attributes. So we can load our production/test file with the inference_flag set to *True*"
   ]
  },
  {
   "cell_type": "code",
   "execution_count": 16,
   "id": "d23f24fb",
   "metadata": {},
   "outputs": [
    {
     "data": {
      "text/plain": [
       "('Country_OH', ['Country__DE', 'Country__FR', 'Country__GB'])"
      ]
     },
     "execution_count": 16,
     "metadata": {},
     "output_type": "execute_result"
    }
   ],
   "source": [
    "oh_reload = td_reload.features[4]\n",
    "(oh_reload.name, oh_reload.expand_names)"
   ]
  },
  {
   "cell_type": "code",
   "execution_count": 17,
   "id": "8580ef08",
   "metadata": {},
   "outputs": [
    {
     "name": "stderr",
     "output_type": "stream",
     "text": [
      "2023-03-17 14:29:30.293 eng1n3.common.engine           INFO     Start Engine...\n",
      "2023-03-17 14:29:30.294 eng1n3.pandas.pandasengine     INFO     Pandas Version : 1.5.3\n",
      "2023-03-17 14:29:30.295 eng1n3.pandas.pandasengine     INFO     Numpy Version : 1.23.5\n",
      "2023-03-17 14:29:30.295 eng1n3.pandas.pandasengine     INFO     Building Panda for : Features from file ./data/2lines_intro_card.csv\n",
      "2023-03-17 14:29:30.303 eng1n3.pandas.pandasengine     INFO     Reshaping DataFrame to: Features\n"
     ]
    },
    {
     "data": {
      "text/html": [
       "<div>\n",
       "<style scoped>\n",
       "    .dataframe tbody tr th:only-of-type {\n",
       "        vertical-align: middle;\n",
       "    }\n",
       "\n",
       "    .dataframe tbody tr th {\n",
       "        vertical-align: top;\n",
       "    }\n",
       "\n",
       "    .dataframe thead th {\n",
       "        text-align: right;\n",
       "    }\n",
       "</style>\n",
       "<table border=\"1\" class=\"dataframe\">\n",
       "  <thead>\n",
       "    <tr style=\"text-align: right;\">\n",
       "      <th></th>\n",
       "      <th>Merchant</th>\n",
       "      <th>Date</th>\n",
       "      <th>Card</th>\n",
       "      <th>Amount</th>\n",
       "      <th>Country__DE</th>\n",
       "      <th>Country__FR</th>\n",
       "      <th>Country__GB</th>\n",
       "    </tr>\n",
       "  </thead>\n",
       "  <tbody>\n",
       "    <tr>\n",
       "      <th>0</th>\n",
       "      <td>MRC-1</td>\n",
       "      <td>2020-01-01</td>\n",
       "      <td>CARD-1</td>\n",
       "      <td>1.0</td>\n",
       "      <td>1</td>\n",
       "      <td>0</td>\n",
       "      <td>0</td>\n",
       "    </tr>\n",
       "  </tbody>\n",
       "</table>\n",
       "</div>"
      ],
      "text/plain": [
       "  Merchant       Date    Card  Amount  Country__DE  Country__FR  Country__GB\n",
       "0    MRC-1 2020-01-01  CARD-1     1.0            1            0            0"
      ]
     },
     "execution_count": 17,
     "metadata": {},
     "output_type": "execute_result"
    }
   ],
   "source": [
    "with en.EnginePandas(num_threads=1) as e:\n",
    "    df = e.df_from_csv(td_reload, first_lines, inference=True)\n",
    "    \n",
    "df"
   ]
  },
  {
   "cell_type": "markdown",
   "id": "1b254734",
   "metadata": {},
   "source": [
    "### Don't forget to clean-up"
   ]
  },
  {
   "cell_type": "code",
   "execution_count": 18,
   "id": "de3673c2",
   "metadata": {},
   "outputs": [],
   "source": [
    "!rm $first_lines\n",
    "!rm -rf $save_location"
   ]
  },
  {
   "cell_type": "markdown",
   "id": "e04db589",
   "metadata": {},
   "source": [
    "# Conclusion\n",
    "Some features are not just plain built from other features or parameters, but need information from the data itself in order to be built. Those features store that information in inference attributes. \n",
    "\n",
    "It is very important for the consitency of the model input that training and test/production sets are created with the same inference attributes. Test/Production data should always be built with the inference_flag set to *True* and only after the features have read a representative set of training data.\n",
    "\n",
    "The TensorDefinition object and all the features, including the inference attributes can be saved and re-loaded."
   ]
  }
 ],
 "metadata": {
  "kernelspec": {
   "display_name": "Python 3 (ipykernel)",
   "language": "python",
   "name": "python3"
  },
  "language_info": {
   "codemirror_mode": {
    "name": "ipython",
    "version": 3
   },
   "file_extension": ".py",
   "mimetype": "text/x-python",
   "name": "python",
   "nbconvert_exporter": "python",
   "pygments_lexer": "ipython3",
   "version": "3.10.6"
  }
 },
 "nbformat": 4,
 "nbformat_minor": 5
}
